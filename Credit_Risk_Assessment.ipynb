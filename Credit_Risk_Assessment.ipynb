{
 "cells": [
  {
   "cell_type": "code",
   "execution_count": 871,
   "id": "b94339f2",
   "metadata": {},
   "outputs": [],
   "source": [
    "import pandas as pd\n",
    "import numpy as np\n",
    "import matplotlib.pyplot as plt\n",
    "import seaborn as sns\n",
    "from collections import Counter\n",
    "from imblearn.over_sampling import SMOTE\n",
    "from sklearn.model_selection import train_test_split\n",
    "from sklearn.impute import SimpleImputer\n",
    "from sklearn.preprocessing  import MinMaxScaler\n",
    "from sklearn.linear_model import LogisticRegression\n",
    "from sklearn.neighbors import KNeighborsClassifier\n",
    "from sklearn.tree import DecisionTreeClassifier\n",
    "from sklearn.model_selection import RandomizedSearchCV\n",
    "from sklearn.metrics import accuracy_score,confusion_matrix,classification_report\n",
    "from sklearn.model_selection import train_test_split\n",
    "from sklearn.ensemble import RandomForestClassifier, AdaBoostClassifier\n",
    "from sklearn.linear_model import LogisticRegression\n",
    "from sklearn.neighbors import KNeighborsClassifier\n",
    "from xgboost import XGBClassifier"
   ]
  },
  {
   "cell_type": "code",
   "execution_count": 872,
   "id": "658e37b1",
   "metadata": {},
   "outputs": [],
   "source": [
    "df = pd.read_csv(\"credit_risk.csv\", index_col=\"Id\")"
   ]
  },
  {
   "cell_type": "code",
   "execution_count": 873,
   "id": "e8cad27b",
   "metadata": {
    "scrolled": true
   },
   "outputs": [
    {
     "data": {
      "text/html": [
       "<div>\n",
       "<style scoped>\n",
       "    .dataframe tbody tr th:only-of-type {\n",
       "        vertical-align: middle;\n",
       "    }\n",
       "\n",
       "    .dataframe tbody tr th {\n",
       "        vertical-align: top;\n",
       "    }\n",
       "\n",
       "    .dataframe thead th {\n",
       "        text-align: right;\n",
       "    }\n",
       "</style>\n",
       "<table border=\"1\" class=\"dataframe\">\n",
       "  <thead>\n",
       "    <tr style=\"text-align: right;\">\n",
       "      <th></th>\n",
       "      <th>Age</th>\n",
       "      <th>Income</th>\n",
       "      <th>Home</th>\n",
       "      <th>Emp_length</th>\n",
       "      <th>Intent</th>\n",
       "      <th>Amount</th>\n",
       "      <th>Rate</th>\n",
       "      <th>Status</th>\n",
       "      <th>Percent_income</th>\n",
       "      <th>Default</th>\n",
       "      <th>Cred_length</th>\n",
       "    </tr>\n",
       "    <tr>\n",
       "      <th>Id</th>\n",
       "      <th></th>\n",
       "      <th></th>\n",
       "      <th></th>\n",
       "      <th></th>\n",
       "      <th></th>\n",
       "      <th></th>\n",
       "      <th></th>\n",
       "      <th></th>\n",
       "      <th></th>\n",
       "      <th></th>\n",
       "      <th></th>\n",
       "    </tr>\n",
       "  </thead>\n",
       "  <tbody>\n",
       "    <tr>\n",
       "      <th>0</th>\n",
       "      <td>22</td>\n",
       "      <td>59000</td>\n",
       "      <td>RENT</td>\n",
       "      <td>123.0</td>\n",
       "      <td>PERSONAL</td>\n",
       "      <td>35000</td>\n",
       "      <td>16.02</td>\n",
       "      <td>1</td>\n",
       "      <td>0.59</td>\n",
       "      <td>Y</td>\n",
       "      <td>3</td>\n",
       "    </tr>\n",
       "    <tr>\n",
       "      <th>1</th>\n",
       "      <td>21</td>\n",
       "      <td>9600</td>\n",
       "      <td>OWN</td>\n",
       "      <td>5.0</td>\n",
       "      <td>EDUCATION</td>\n",
       "      <td>1000</td>\n",
       "      <td>11.14</td>\n",
       "      <td>0</td>\n",
       "      <td>0.10</td>\n",
       "      <td>N</td>\n",
       "      <td>2</td>\n",
       "    </tr>\n",
       "    <tr>\n",
       "      <th>2</th>\n",
       "      <td>25</td>\n",
       "      <td>9600</td>\n",
       "      <td>MORTGAGE</td>\n",
       "      <td>1.0</td>\n",
       "      <td>MEDICAL</td>\n",
       "      <td>5500</td>\n",
       "      <td>12.87</td>\n",
       "      <td>1</td>\n",
       "      <td>0.57</td>\n",
       "      <td>N</td>\n",
       "      <td>3</td>\n",
       "    </tr>\n",
       "    <tr>\n",
       "      <th>3</th>\n",
       "      <td>23</td>\n",
       "      <td>65500</td>\n",
       "      <td>RENT</td>\n",
       "      <td>4.0</td>\n",
       "      <td>MEDICAL</td>\n",
       "      <td>35000</td>\n",
       "      <td>15.23</td>\n",
       "      <td>1</td>\n",
       "      <td>0.53</td>\n",
       "      <td>N</td>\n",
       "      <td>2</td>\n",
       "    </tr>\n",
       "    <tr>\n",
       "      <th>4</th>\n",
       "      <td>24</td>\n",
       "      <td>54400</td>\n",
       "      <td>RENT</td>\n",
       "      <td>8.0</td>\n",
       "      <td>MEDICAL</td>\n",
       "      <td>35000</td>\n",
       "      <td>14.27</td>\n",
       "      <td>1</td>\n",
       "      <td>0.55</td>\n",
       "      <td>Y</td>\n",
       "      <td>4</td>\n",
       "    </tr>\n",
       "    <tr>\n",
       "      <th>...</th>\n",
       "      <td>...</td>\n",
       "      <td>...</td>\n",
       "      <td>...</td>\n",
       "      <td>...</td>\n",
       "      <td>...</td>\n",
       "      <td>...</td>\n",
       "      <td>...</td>\n",
       "      <td>...</td>\n",
       "      <td>...</td>\n",
       "      <td>...</td>\n",
       "      <td>...</td>\n",
       "    </tr>\n",
       "    <tr>\n",
       "      <th>32576</th>\n",
       "      <td>57</td>\n",
       "      <td>53000</td>\n",
       "      <td>MORTGAGE</td>\n",
       "      <td>1.0</td>\n",
       "      <td>PERSONAL</td>\n",
       "      <td>5800</td>\n",
       "      <td>13.16</td>\n",
       "      <td>0</td>\n",
       "      <td>0.11</td>\n",
       "      <td>N</td>\n",
       "      <td>30</td>\n",
       "    </tr>\n",
       "    <tr>\n",
       "      <th>32577</th>\n",
       "      <td>54</td>\n",
       "      <td>120000</td>\n",
       "      <td>MORTGAGE</td>\n",
       "      <td>4.0</td>\n",
       "      <td>PERSONAL</td>\n",
       "      <td>17625</td>\n",
       "      <td>7.49</td>\n",
       "      <td>0</td>\n",
       "      <td>0.15</td>\n",
       "      <td>N</td>\n",
       "      <td>19</td>\n",
       "    </tr>\n",
       "    <tr>\n",
       "      <th>32578</th>\n",
       "      <td>65</td>\n",
       "      <td>76000</td>\n",
       "      <td>RENT</td>\n",
       "      <td>3.0</td>\n",
       "      <td>HOMEIMPROVEMENT</td>\n",
       "      <td>35000</td>\n",
       "      <td>10.99</td>\n",
       "      <td>1</td>\n",
       "      <td>0.46</td>\n",
       "      <td>N</td>\n",
       "      <td>28</td>\n",
       "    </tr>\n",
       "    <tr>\n",
       "      <th>32579</th>\n",
       "      <td>56</td>\n",
       "      <td>150000</td>\n",
       "      <td>MORTGAGE</td>\n",
       "      <td>5.0</td>\n",
       "      <td>PERSONAL</td>\n",
       "      <td>15000</td>\n",
       "      <td>11.48</td>\n",
       "      <td>0</td>\n",
       "      <td>0.10</td>\n",
       "      <td>N</td>\n",
       "      <td>26</td>\n",
       "    </tr>\n",
       "    <tr>\n",
       "      <th>32780</th>\n",
       "      <td>66</td>\n",
       "      <td>42000</td>\n",
       "      <td>RENT</td>\n",
       "      <td>2.0</td>\n",
       "      <td>MEDICAL</td>\n",
       "      <td>6475</td>\n",
       "      <td>9.99</td>\n",
       "      <td>0</td>\n",
       "      <td>0.15</td>\n",
       "      <td>N</td>\n",
       "      <td>30</td>\n",
       "    </tr>\n",
       "  </tbody>\n",
       "</table>\n",
       "<p>32581 rows × 11 columns</p>\n",
       "</div>"
      ],
      "text/plain": [
       "       Age  Income      Home  Emp_length           Intent  Amount   Rate  \\\n",
       "Id                                                                         \n",
       "0       22   59000      RENT       123.0         PERSONAL   35000  16.02   \n",
       "1       21    9600       OWN         5.0        EDUCATION    1000  11.14   \n",
       "2       25    9600  MORTGAGE         1.0          MEDICAL    5500  12.87   \n",
       "3       23   65500      RENT         4.0          MEDICAL   35000  15.23   \n",
       "4       24   54400      RENT         8.0          MEDICAL   35000  14.27   \n",
       "...    ...     ...       ...         ...              ...     ...    ...   \n",
       "32576   57   53000  MORTGAGE         1.0         PERSONAL    5800  13.16   \n",
       "32577   54  120000  MORTGAGE         4.0         PERSONAL   17625   7.49   \n",
       "32578   65   76000      RENT         3.0  HOMEIMPROVEMENT   35000  10.99   \n",
       "32579   56  150000  MORTGAGE         5.0         PERSONAL   15000  11.48   \n",
       "32780   66   42000      RENT         2.0          MEDICAL    6475   9.99   \n",
       "\n",
       "       Status  Percent_income Default  Cred_length  \n",
       "Id                                                  \n",
       "0           1            0.59       Y            3  \n",
       "1           0            0.10       N            2  \n",
       "2           1            0.57       N            3  \n",
       "3           1            0.53       N            2  \n",
       "4           1            0.55       Y            4  \n",
       "...       ...             ...     ...          ...  \n",
       "32576       0            0.11       N           30  \n",
       "32577       0            0.15       N           19  \n",
       "32578       1            0.46       N           28  \n",
       "32579       0            0.10       N           26  \n",
       "32780       0            0.15       N           30  \n",
       "\n",
       "[32581 rows x 11 columns]"
      ]
     },
     "execution_count": 873,
     "metadata": {},
     "output_type": "execute_result"
    }
   ],
   "source": [
    "df"
   ]
  },
  {
   "cell_type": "code",
   "execution_count": 874,
   "id": "66c066a7",
   "metadata": {},
   "outputs": [
    {
     "data": {
      "text/plain": [
       "array([1, 0], dtype=int64)"
      ]
     },
     "execution_count": 874,
     "metadata": {},
     "output_type": "execute_result"
    }
   ],
   "source": [
    "df.iloc[:,7].unique()"
   ]
  },
  {
   "cell_type": "code",
   "execution_count": 875,
   "id": "243d630a",
   "metadata": {},
   "outputs": [
    {
     "name": "stdout",
     "output_type": "stream",
     "text": [
      "<class 'pandas.core.frame.DataFrame'>\n",
      "Int64Index: 32581 entries, 0 to 32780\n",
      "Data columns (total 11 columns):\n",
      " #   Column          Non-Null Count  Dtype  \n",
      "---  ------          --------------  -----  \n",
      " 0   Age             32581 non-null  int64  \n",
      " 1   Income          32581 non-null  int64  \n",
      " 2   Home            32581 non-null  object \n",
      " 3   Emp_length      31686 non-null  float64\n",
      " 4   Intent          32581 non-null  object \n",
      " 5   Amount          32581 non-null  int64  \n",
      " 6   Rate            29465 non-null  float64\n",
      " 7   Status          32581 non-null  int64  \n",
      " 8   Percent_income  32581 non-null  float64\n",
      " 9   Default         32581 non-null  object \n",
      " 10  Cred_length     32581 non-null  int64  \n",
      "dtypes: float64(3), int64(5), object(3)\n",
      "memory usage: 3.0+ MB\n"
     ]
    }
   ],
   "source": [
    "df.info()"
   ]
  },
  {
   "cell_type": "code",
   "execution_count": 876,
   "id": "b672bd7a",
   "metadata": {},
   "outputs": [
    {
     "data": {
      "text/plain": [
       "Age                  0\n",
       "Income               0\n",
       "Home                 0\n",
       "Emp_length         895\n",
       "Intent               0\n",
       "Amount               0\n",
       "Rate              3116\n",
       "Status               0\n",
       "Percent_income       0\n",
       "Default              0\n",
       "Cred_length          0\n",
       "dtype: int64"
      ]
     },
     "execution_count": 876,
     "metadata": {},
     "output_type": "execute_result"
    }
   ],
   "source": [
    "df.isna().sum()"
   ]
  },
  {
   "cell_type": "code",
   "execution_count": 877,
   "id": "2431ed1d",
   "metadata": {},
   "outputs": [],
   "source": [
    "# dealing with missing values \n",
    "SI = SimpleImputer()\n",
    "\n",
    "df.iloc[:,[3,6]]= SI.fit_transform(df.iloc[:,[3,6]])"
   ]
  },
  {
   "cell_type": "code",
   "execution_count": 878,
   "id": "10d52885",
   "metadata": {},
   "outputs": [
    {
     "data": {
      "text/plain": [
       "Age               0\n",
       "Income            0\n",
       "Home              0\n",
       "Emp_length        0\n",
       "Intent            0\n",
       "Amount            0\n",
       "Rate              0\n",
       "Status            0\n",
       "Percent_income    0\n",
       "Default           0\n",
       "Cred_length       0\n",
       "dtype: int64"
      ]
     },
     "execution_count": 878,
     "metadata": {},
     "output_type": "execute_result"
    }
   ],
   "source": [
    "df.isna().sum()"
   ]
  },
  {
   "cell_type": "code",
   "execution_count": 879,
   "id": "a8056a29",
   "metadata": {},
   "outputs": [],
   "source": [
    "# Perform one-hot encoding\n",
    "df1 = pd.get_dummies(df, columns=['Home',\"Intent\",\"Default\"])"
   ]
  },
  {
   "cell_type": "code",
   "execution_count": 880,
   "id": "cb0cf41f",
   "metadata": {},
   "outputs": [
    {
     "name": "stdout",
     "output_type": "stream",
     "text": [
      "<class 'pandas.core.frame.DataFrame'>\n",
      "Int64Index: 32581 entries, 0 to 32780\n",
      "Data columns (total 20 columns):\n",
      " #   Column                    Non-Null Count  Dtype  \n",
      "---  ------                    --------------  -----  \n",
      " 0   Age                       32581 non-null  int64  \n",
      " 1   Income                    32581 non-null  int64  \n",
      " 2   Emp_length                32581 non-null  float64\n",
      " 3   Amount                    32581 non-null  int64  \n",
      " 4   Rate                      32581 non-null  float64\n",
      " 5   Status                    32581 non-null  int64  \n",
      " 6   Percent_income            32581 non-null  float64\n",
      " 7   Cred_length               32581 non-null  int64  \n",
      " 8   Home_MORTGAGE             32581 non-null  uint8  \n",
      " 9   Home_OTHER                32581 non-null  uint8  \n",
      " 10  Home_OWN                  32581 non-null  uint8  \n",
      " 11  Home_RENT                 32581 non-null  uint8  \n",
      " 12  Intent_DEBTCONSOLIDATION  32581 non-null  uint8  \n",
      " 13  Intent_EDUCATION          32581 non-null  uint8  \n",
      " 14  Intent_HOMEIMPROVEMENT    32581 non-null  uint8  \n",
      " 15  Intent_MEDICAL            32581 non-null  uint8  \n",
      " 16  Intent_PERSONAL           32581 non-null  uint8  \n",
      " 17  Intent_VENTURE            32581 non-null  uint8  \n",
      " 18  Default_N                 32581 non-null  uint8  \n",
      " 19  Default_Y                 32581 non-null  uint8  \n",
      "dtypes: float64(3), int64(5), uint8(12)\n",
      "memory usage: 2.6 MB\n"
     ]
    }
   ],
   "source": [
    "df1.info()"
   ]
  },
  {
   "cell_type": "code",
   "execution_count": 881,
   "id": "47f6011b",
   "metadata": {},
   "outputs": [],
   "source": [
    "# dropped one category for each feature \n",
    "df1 = df1.drop([\"Home_OTHER\",\"Intent_VENTURE\", \"Default_Y\"], axis=1)"
   ]
  },
  {
   "cell_type": "code",
   "execution_count": 882,
   "id": "c7d8fa39",
   "metadata": {},
   "outputs": [
    {
     "data": {
      "image/png": "[encoded data removed]",
      "text/plain": [
       "<Figure size 1500x1500 with 1 Axes>"
      ]
     },
     "metadata": {},
     "output_type": "display_data"
    },
    {
     "data": {
      "image/png": "[encoded data removed]",
      "text/plain": [
       "<Figure size 1500x1500 with 1 Axes>"
      ]
     },
     "metadata": {},
     "output_type": "display_data"
    },
    {
     "data": {
      "image/png": "[encoded data removed]",
      "text/plain": [
       "<Figure size 1500x1500 with 1 Axes>"
      ]
     },
     "metadata": {},
     "output_type": "display_data"
    },
    {
     "data": {
      "image/png": "[encoded data removed]",
      "text/plain": [
       "<Figure size 1500x1500 with 1 Axes>"
      ]
     },
     "metadata": {},
     "output_type": "display_data"
    },
    {
     "data": {
      "image/png": "[encoded data removed]",
      "text/plain": [
       "<Figure size 1500x1500 with 1 Axes>"
      ]
     },
     "metadata": {},
     "output_type": "display_data"
    },
    {
     "data": {
      "image/png": "[encoded data removed]",
      "text/plain": [
       "<Figure size 1500x1500 with 1 Axes>"
      ]
     },
     "metadata": {},
     "output_type": "display_data"
    },
    {
     "data": {
      "image/png": "[encoded data removed]",
      "text/plain": [
       "<Figure size 1500x1500 with 1 Axes>"
      ]
     },
     "metadata": {},
     "output_type": "display_data"
    },
    {
     "data": {
      "image/png": "[encoded data removed]",
      "text/plain": [
       "<Figure size 1500x1500 with 1 Axes>"
      ]
     },
     "metadata": {},
     "output_type": "display_data"
    },
    {
     "data": {
      "image/png": "[encoded data removed]",
      "text/plain": [
       "<Figure size 1500x1500 with 1 Axes>"
      ]
     },
     "metadata": {},
     "output_type": "display_data"
    },
    {
     "data": {
      "image/png": "[encoded data removed]",
      "text/plain": [
       "<Figure size 1500x1500 with 1 Axes>"
      ]
     },
     "metadata": {},
     "output_type": "display_data"
    },
    {
     "data": {
      "image/png": "[encoded data removed]",
      "text/plain": [
       "<Figure size 1500x1500 with 1 Axes>"
      ]
     },
     "metadata": {},
     "output_type": "display_data"
    },
    {
     "data": {
      "image/png": "[encoded data removed]",
      "text/plain": [
       "<Figure size 1500x1500 with 1 Axes>"
      ]
     },
     "metadata": {},
     "output_type": "display_data"
    },
    {
     "data": {
      "image/png": "[encoded data removed]",
      "text/plain": [
       "<Figure size 1500x1500 with 1 Axes>"
      ]
     },
     "metadata": {},
     "output_type": "display_data"
    },
    {
     "data": {
      "image/png": "[encoded data removed]",
      "text/plain": [
       "<Figure size 1500x1500 with 1 Axes>"
      ]
     },
     "metadata": {},
     "output_type": "display_data"
    },
    {
     "data": {
      "image/png": "[encoded data removed]",
      "text/plain": [
       "<Figure size 1500x1500 with 1 Axes>"
      ]
     },
     "metadata": {},
     "output_type": "display_data"
    },
    {
     "data": {
      "image/png": "[encoded data removed]",
      "text/plain": [
       "<Figure size 1500x1500 with 1 Axes>"
      ]
     },
     "metadata": {},
     "output_type": "display_data"
    },
    {
     "data": {
      "image/png": "[encoded data removed]",
      "text/plain": [
       "<Figure size 1500x1500 with 1 Axes>"
      ]
     },
     "metadata": {},
     "output_type": "display_data"
    }
   ],
   "source": [
    "# check for outliers in all features (we wiil only be lokking for the continuous ones)\n",
    "\n",
    "for feature in df1.columns:\n",
    "    plt.figure(figsize=(15, 15))\n",
    "    sns.boxplot(data=df1, x=feature)\n",
    "    plt.title(feature)  # Make sure there's no variable named 'title' that could cause conflict\n",
    "    plt.show()"
   ]
  },
  {
   "cell_type": "code",
   "execution_count": 883,
   "id": "2168c8f6",
   "metadata": {
    "scrolled": true
   },
   "outputs": [
    {
     "data": {
      "text/html": [
       "<div>\n",
       "<style scoped>\n",
       "    .dataframe tbody tr th:only-of-type {\n",
       "        vertical-align: middle;\n",
       "    }\n",
       "\n",
       "    .dataframe tbody tr th {\n",
       "        vertical-align: top;\n",
       "    }\n",
       "\n",
       "    .dataframe thead th {\n",
       "        text-align: right;\n",
       "    }\n",
       "</style>\n",
       "<table border=\"1\" class=\"dataframe\">\n",
       "  <thead>\n",
       "    <tr style=\"text-align: right;\">\n",
       "      <th></th>\n",
       "      <th>Age</th>\n",
       "      <th>Income</th>\n",
       "      <th>Emp_length</th>\n",
       "      <th>Amount</th>\n",
       "      <th>Rate</th>\n",
       "      <th>Status</th>\n",
       "      <th>Percent_income</th>\n",
       "      <th>Cred_length</th>\n",
       "      <th>Home_MORTGAGE</th>\n",
       "      <th>Home_OWN</th>\n",
       "      <th>Home_RENT</th>\n",
       "      <th>Intent_DEBTCONSOLIDATION</th>\n",
       "      <th>Intent_EDUCATION</th>\n",
       "      <th>Intent_HOMEIMPROVEMENT</th>\n",
       "      <th>Intent_MEDICAL</th>\n",
       "      <th>Intent_PERSONAL</th>\n",
       "      <th>Default_N</th>\n",
       "    </tr>\n",
       "  </thead>\n",
       "  <tbody>\n",
       "    <tr>\n",
       "      <th>count</th>\n",
       "      <td>32581.000000</td>\n",
       "      <td>3.258100e+04</td>\n",
       "      <td>32581.000000</td>\n",
       "      <td>32581.000000</td>\n",
       "      <td>32581.000000</td>\n",
       "      <td>32581.000000</td>\n",
       "      <td>32581.000000</td>\n",
       "      <td>32581.000000</td>\n",
       "      <td>32581.000000</td>\n",
       "      <td>32581.000000</td>\n",
       "      <td>32581.000000</td>\n",
       "      <td>32581.000000</td>\n",
       "      <td>32581.000000</td>\n",
       "      <td>32581.000000</td>\n",
       "      <td>32581.000000</td>\n",
       "      <td>32581.000000</td>\n",
       "      <td>32581.000000</td>\n",
       "    </tr>\n",
       "    <tr>\n",
       "      <th>mean</th>\n",
       "      <td>27.734600</td>\n",
       "      <td>6.607485e+04</td>\n",
       "      <td>4.789686</td>\n",
       "      <td>9589.371106</td>\n",
       "      <td>11.011695</td>\n",
       "      <td>0.218164</td>\n",
       "      <td>0.170203</td>\n",
       "      <td>5.804211</td>\n",
       "      <td>0.412633</td>\n",
       "      <td>0.079310</td>\n",
       "      <td>0.504773</td>\n",
       "      <td>0.159971</td>\n",
       "      <td>0.198060</td>\n",
       "      <td>0.110647</td>\n",
       "      <td>0.186336</td>\n",
       "      <td>0.169455</td>\n",
       "      <td>0.823670</td>\n",
       "    </tr>\n",
       "    <tr>\n",
       "      <th>std</th>\n",
       "      <td>6.348078</td>\n",
       "      <td>6.198312e+04</td>\n",
       "      <td>4.085333</td>\n",
       "      <td>6322.086646</td>\n",
       "      <td>3.081605</td>\n",
       "      <td>0.413006</td>\n",
       "      <td>0.106782</td>\n",
       "      <td>4.055001</td>\n",
       "      <td>0.492315</td>\n",
       "      <td>0.270226</td>\n",
       "      <td>0.499985</td>\n",
       "      <td>0.366584</td>\n",
       "      <td>0.398544</td>\n",
       "      <td>0.313700</td>\n",
       "      <td>0.389383</td>\n",
       "      <td>0.375159</td>\n",
       "      <td>0.381106</td>\n",
       "    </tr>\n",
       "    <tr>\n",
       "      <th>min</th>\n",
       "      <td>20.000000</td>\n",
       "      <td>4.000000e+03</td>\n",
       "      <td>0.000000</td>\n",
       "      <td>500.000000</td>\n",
       "      <td>5.420000</td>\n",
       "      <td>0.000000</td>\n",
       "      <td>0.000000</td>\n",
       "      <td>2.000000</td>\n",
       "      <td>0.000000</td>\n",
       "      <td>0.000000</td>\n",
       "      <td>0.000000</td>\n",
       "      <td>0.000000</td>\n",
       "      <td>0.000000</td>\n",
       "      <td>0.000000</td>\n",
       "      <td>0.000000</td>\n",
       "      <td>0.000000</td>\n",
       "      <td>0.000000</td>\n",
       "    </tr>\n",
       "    <tr>\n",
       "      <th>25%</th>\n",
       "      <td>23.000000</td>\n",
       "      <td>3.850000e+04</td>\n",
       "      <td>2.000000</td>\n",
       "      <td>5000.000000</td>\n",
       "      <td>8.490000</td>\n",
       "      <td>0.000000</td>\n",
       "      <td>0.090000</td>\n",
       "      <td>3.000000</td>\n",
       "      <td>0.000000</td>\n",
       "      <td>0.000000</td>\n",
       "      <td>0.000000</td>\n",
       "      <td>0.000000</td>\n",
       "      <td>0.000000</td>\n",
       "      <td>0.000000</td>\n",
       "      <td>0.000000</td>\n",
       "      <td>0.000000</td>\n",
       "      <td>1.000000</td>\n",
       "    </tr>\n",
       "    <tr>\n",
       "      <th>50%</th>\n",
       "      <td>26.000000</td>\n",
       "      <td>5.500000e+04</td>\n",
       "      <td>4.000000</td>\n",
       "      <td>8000.000000</td>\n",
       "      <td>11.011695</td>\n",
       "      <td>0.000000</td>\n",
       "      <td>0.150000</td>\n",
       "      <td>4.000000</td>\n",
       "      <td>0.000000</td>\n",
       "      <td>0.000000</td>\n",
       "      <td>1.000000</td>\n",
       "      <td>0.000000</td>\n",
       "      <td>0.000000</td>\n",
       "      <td>0.000000</td>\n",
       "      <td>0.000000</td>\n",
       "      <td>0.000000</td>\n",
       "      <td>1.000000</td>\n",
       "    </tr>\n",
       "    <tr>\n",
       "      <th>75%</th>\n",
       "      <td>30.000000</td>\n",
       "      <td>7.920000e+04</td>\n",
       "      <td>7.000000</td>\n",
       "      <td>12200.000000</td>\n",
       "      <td>13.110000</td>\n",
       "      <td>0.000000</td>\n",
       "      <td>0.230000</td>\n",
       "      <td>8.000000</td>\n",
       "      <td>1.000000</td>\n",
       "      <td>0.000000</td>\n",
       "      <td>1.000000</td>\n",
       "      <td>0.000000</td>\n",
       "      <td>0.000000</td>\n",
       "      <td>0.000000</td>\n",
       "      <td>0.000000</td>\n",
       "      <td>0.000000</td>\n",
       "      <td>1.000000</td>\n",
       "    </tr>\n",
       "    <tr>\n",
       "      <th>max</th>\n",
       "      <td>144.000000</td>\n",
       "      <td>6.000000e+06</td>\n",
       "      <td>123.000000</td>\n",
       "      <td>35000.000000</td>\n",
       "      <td>23.220000</td>\n",
       "      <td>1.000000</td>\n",
       "      <td>0.830000</td>\n",
       "      <td>30.000000</td>\n",
       "      <td>1.000000</td>\n",
       "      <td>1.000000</td>\n",
       "      <td>1.000000</td>\n",
       "      <td>1.000000</td>\n",
       "      <td>1.000000</td>\n",
       "      <td>1.000000</td>\n",
       "      <td>1.000000</td>\n",
       "      <td>1.000000</td>\n",
       "      <td>1.000000</td>\n",
       "    </tr>\n",
       "  </tbody>\n",
       "</table>\n",
       "</div>"
      ],
      "text/plain": [
       "                Age        Income    Emp_length        Amount          Rate  \\\n",
       "count  32581.000000  3.258100e+04  32581.000000  32581.000000  32581.000000   \n",
       "mean      27.734600  6.607485e+04      4.789686   9589.371106     11.011695   \n",
       "std        6.348078  6.198312e+04      4.085333   6322.086646      3.081605   \n",
       "min       20.000000  4.000000e+03      0.000000    500.000000      5.420000   \n",
       "25%       23.000000  3.850000e+04      2.000000   5000.000000      8.490000   \n",
       "50%       26.000000  5.500000e+04      4.000000   8000.000000     11.011695   \n",
       "75%       30.000000  7.920000e+04      7.000000  12200.000000     13.110000   \n",
       "max      144.000000  6.000000e+06    123.000000  35000.000000     23.220000   \n",
       "\n",
       "             Status  Percent_income   Cred_length  Home_MORTGAGE  \\\n",
       "count  32581.000000    32581.000000  32581.000000   32581.000000   \n",
       "mean       0.218164        0.170203      5.804211       0.412633   \n",
       "std        0.413006        0.106782      4.055001       0.492315   \n",
       "min        0.000000        0.000000      2.000000       0.000000   \n",
       "25%        0.000000        0.090000      3.000000       0.000000   \n",
       "50%        0.000000        0.150000      4.000000       0.000000   \n",
       "75%        0.000000        0.230000      8.000000       1.000000   \n",
       "max        1.000000        0.830000     30.000000       1.000000   \n",
       "\n",
       "           Home_OWN     Home_RENT  Intent_DEBTCONSOLIDATION  Intent_EDUCATION  \\\n",
       "count  32581.000000  32581.000000              32581.000000      32581.000000   \n",
       "mean       0.079310      0.504773                  0.159971          0.198060   \n",
       "std        0.270226      0.499985                  0.366584          0.398544   \n",
       "min        0.000000      0.000000                  0.000000          0.000000   \n",
       "25%        0.000000      0.000000                  0.000000          0.000000   \n",
       "50%        0.000000      1.000000                  0.000000          0.000000   \n",
       "75%        0.000000      1.000000                  0.000000          0.000000   \n",
       "max        1.000000      1.000000                  1.000000          1.000000   \n",
       "\n",
       "       Intent_HOMEIMPROVEMENT  Intent_MEDICAL  Intent_PERSONAL     Default_N  \n",
       "count            32581.000000    32581.000000     32581.000000  32581.000000  \n",
       "mean                 0.110647        0.186336         0.169455      0.823670  \n",
       "std                  0.313700        0.389383         0.375159      0.381106  \n",
       "min                  0.000000        0.000000         0.000000      0.000000  \n",
       "25%                  0.000000        0.000000         0.000000      1.000000  \n",
       "50%                  0.000000        0.000000         0.000000      1.000000  \n",
       "75%                  0.000000        0.000000         0.000000      1.000000  \n",
       "max                  1.000000        1.000000         1.000000      1.000000  "
      ]
     },
     "execution_count": 883,
     "metadata": {},
     "output_type": "execute_result"
    }
   ],
   "source": [
    "df1.describe()"
   ]
  },
  {
   "cell_type": "code",
   "execution_count": 884,
   "id": "d8b2a28f",
   "metadata": {},
   "outputs": [
    {
     "name": "stdout",
     "output_type": "stream",
     "text": [
      "<class 'pandas.core.frame.DataFrame'>\n",
      "Int64Index: 32581 entries, 0 to 32780\n",
      "Data columns (total 17 columns):\n",
      " #   Column                    Non-Null Count  Dtype  \n",
      "---  ------                    --------------  -----  \n",
      " 0   Age                       32581 non-null  int64  \n",
      " 1   Income                    32581 non-null  int64  \n",
      " 2   Emp_length                32581 non-null  float64\n",
      " 3   Amount                    32581 non-null  int64  \n",
      " 4   Rate                      32581 non-null  float64\n",
      " 5   Status                    32581 non-null  int64  \n",
      " 6   Percent_income            32581 non-null  float64\n",
      " 7   Cred_length               32581 non-null  int64  \n",
      " 8   Home_MORTGAGE             32581 non-null  uint8  \n",
      " 9   Home_OWN                  32581 non-null  uint8  \n",
      " 10  Home_RENT                 32581 non-null  uint8  \n",
      " 11  Intent_DEBTCONSOLIDATION  32581 non-null  uint8  \n",
      " 12  Intent_EDUCATION          32581 non-null  uint8  \n",
      " 13  Intent_HOMEIMPROVEMENT    32581 non-null  uint8  \n",
      " 14  Intent_MEDICAL            32581 non-null  uint8  \n",
      " 15  Intent_PERSONAL           32581 non-null  uint8  \n",
      " 16  Default_N                 32581 non-null  uint8  \n",
      "dtypes: float64(3), int64(5), uint8(9)\n",
      "memory usage: 2.5 MB\n"
     ]
    }
   ],
   "source": [
    "df1.info()"
   ]
  },
  {
   "cell_type": "markdown",
   "id": "d1920617",
   "metadata": {},
   "source": [
    "# Data Splitting"
   ]
  },
  {
   "cell_type": "code",
   "execution_count": 885,
   "id": "ac88f6a2",
   "metadata": {},
   "outputs": [],
   "source": [
    "x = df1.drop(\"Status\", axis=1)"
   ]
  },
  {
   "cell_type": "code",
   "execution_count": 886,
   "id": "f0ca9b39",
   "metadata": {},
   "outputs": [
    {
     "data": {
      "text/html": [
       "<div>\n",
       "<style scoped>\n",
       "    .dataframe tbody tr th:only-of-type {\n",
       "        vertical-align: middle;\n",
       "    }\n",
       "\n",
       "    .dataframe tbody tr th {\n",
       "        vertical-align: top;\n",
       "    }\n",
       "\n",
       "    .dataframe thead th {\n",
       "        text-align: right;\n",
       "    }\n",
       "</style>\n",
       "<table border=\"1\" class=\"dataframe\">\n",
       "  <thead>\n",
       "    <tr style=\"text-align: right;\">\n",
       "      <th></th>\n",
       "      <th>Age</th>\n",
       "      <th>Income</th>\n",
       "      <th>Emp_length</th>\n",
       "      <th>Amount</th>\n",
       "      <th>Rate</th>\n",
       "      <th>Percent_income</th>\n",
       "      <th>Cred_length</th>\n",
       "      <th>Home_MORTGAGE</th>\n",
       "      <th>Home_OWN</th>\n",
       "      <th>Home_RENT</th>\n",
       "      <th>Intent_DEBTCONSOLIDATION</th>\n",
       "      <th>Intent_EDUCATION</th>\n",
       "      <th>Intent_HOMEIMPROVEMENT</th>\n",
       "      <th>Intent_MEDICAL</th>\n",
       "      <th>Intent_PERSONAL</th>\n",
       "      <th>Default_N</th>\n",
       "    </tr>\n",
       "    <tr>\n",
       "      <th>Id</th>\n",
       "      <th></th>\n",
       "      <th></th>\n",
       "      <th></th>\n",
       "      <th></th>\n",
       "      <th></th>\n",
       "      <th></th>\n",
       "      <th></th>\n",
       "      <th></th>\n",
       "      <th></th>\n",
       "      <th></th>\n",
       "      <th></th>\n",
       "      <th></th>\n",
       "      <th></th>\n",
       "      <th></th>\n",
       "      <th></th>\n",
       "      <th></th>\n",
       "    </tr>\n",
       "  </thead>\n",
       "  <tbody>\n",
       "    <tr>\n",
       "      <th>0</th>\n",
       "      <td>22</td>\n",
       "      <td>59000</td>\n",
       "      <td>123.0</td>\n",
       "      <td>35000</td>\n",
       "      <td>16.02</td>\n",
       "      <td>0.59</td>\n",
       "      <td>3</td>\n",
       "      <td>0</td>\n",
       "      <td>0</td>\n",
       "      <td>1</td>\n",
       "      <td>0</td>\n",
       "      <td>0</td>\n",
       "      <td>0</td>\n",
       "      <td>0</td>\n",
       "      <td>1</td>\n",
       "      <td>0</td>\n",
       "    </tr>\n",
       "    <tr>\n",
       "      <th>1</th>\n",
       "      <td>21</td>\n",
       "      <td>9600</td>\n",
       "      <td>5.0</td>\n",
       "      <td>1000</td>\n",
       "      <td>11.14</td>\n",
       "      <td>0.10</td>\n",
       "      <td>2</td>\n",
       "      <td>0</td>\n",
       "      <td>1</td>\n",
       "      <td>0</td>\n",
       "      <td>0</td>\n",
       "      <td>1</td>\n",
       "      <td>0</td>\n",
       "      <td>0</td>\n",
       "      <td>0</td>\n",
       "      <td>1</td>\n",
       "    </tr>\n",
       "    <tr>\n",
       "      <th>2</th>\n",
       "      <td>25</td>\n",
       "      <td>9600</td>\n",
       "      <td>1.0</td>\n",
       "      <td>5500</td>\n",
       "      <td>12.87</td>\n",
       "      <td>0.57</td>\n",
       "      <td>3</td>\n",
       "      <td>1</td>\n",
       "      <td>0</td>\n",
       "      <td>0</td>\n",
       "      <td>0</td>\n",
       "      <td>0</td>\n",
       "      <td>0</td>\n",
       "      <td>1</td>\n",
       "      <td>0</td>\n",
       "      <td>1</td>\n",
       "    </tr>\n",
       "    <tr>\n",
       "      <th>3</th>\n",
       "      <td>23</td>\n",
       "      <td>65500</td>\n",
       "      <td>4.0</td>\n",
       "      <td>35000</td>\n",
       "      <td>15.23</td>\n",
       "      <td>0.53</td>\n",
       "      <td>2</td>\n",
       "      <td>0</td>\n",
       "      <td>0</td>\n",
       "      <td>1</td>\n",
       "      <td>0</td>\n",
       "      <td>0</td>\n",
       "      <td>0</td>\n",
       "      <td>1</td>\n",
       "      <td>0</td>\n",
       "      <td>1</td>\n",
       "    </tr>\n",
       "    <tr>\n",
       "      <th>4</th>\n",
       "      <td>24</td>\n",
       "      <td>54400</td>\n",
       "      <td>8.0</td>\n",
       "      <td>35000</td>\n",
       "      <td>14.27</td>\n",
       "      <td>0.55</td>\n",
       "      <td>4</td>\n",
       "      <td>0</td>\n",
       "      <td>0</td>\n",
       "      <td>1</td>\n",
       "      <td>0</td>\n",
       "      <td>0</td>\n",
       "      <td>0</td>\n",
       "      <td>1</td>\n",
       "      <td>0</td>\n",
       "      <td>0</td>\n",
       "    </tr>\n",
       "    <tr>\n",
       "      <th>...</th>\n",
       "      <td>...</td>\n",
       "      <td>...</td>\n",
       "      <td>...</td>\n",
       "      <td>...</td>\n",
       "      <td>...</td>\n",
       "      <td>...</td>\n",
       "      <td>...</td>\n",
       "      <td>...</td>\n",
       "      <td>...</td>\n",
       "      <td>...</td>\n",
       "      <td>...</td>\n",
       "      <td>...</td>\n",
       "      <td>...</td>\n",
       "      <td>...</td>\n",
       "      <td>...</td>\n",
       "      <td>...</td>\n",
       "    </tr>\n",
       "    <tr>\n",
       "      <th>32576</th>\n",
       "      <td>57</td>\n",
       "      <td>53000</td>\n",
       "      <td>1.0</td>\n",
       "      <td>5800</td>\n",
       "      <td>13.16</td>\n",
       "      <td>0.11</td>\n",
       "      <td>30</td>\n",
       "      <td>1</td>\n",
       "      <td>0</td>\n",
       "      <td>0</td>\n",
       "      <td>0</td>\n",
       "      <td>0</td>\n",
       "      <td>0</td>\n",
       "      <td>0</td>\n",
       "      <td>1</td>\n",
       "      <td>1</td>\n",
       "    </tr>\n",
       "    <tr>\n",
       "      <th>32577</th>\n",
       "      <td>54</td>\n",
       "      <td>120000</td>\n",
       "      <td>4.0</td>\n",
       "      <td>17625</td>\n",
       "      <td>7.49</td>\n",
       "      <td>0.15</td>\n",
       "      <td>19</td>\n",
       "      <td>1</td>\n",
       "      <td>0</td>\n",
       "      <td>0</td>\n",
       "      <td>0</td>\n",
       "      <td>0</td>\n",
       "      <td>0</td>\n",
       "      <td>0</td>\n",
       "      <td>1</td>\n",
       "      <td>1</td>\n",
       "    </tr>\n",
       "    <tr>\n",
       "      <th>32578</th>\n",
       "      <td>65</td>\n",
       "      <td>76000</td>\n",
       "      <td>3.0</td>\n",
       "      <td>35000</td>\n",
       "      <td>10.99</td>\n",
       "      <td>0.46</td>\n",
       "      <td>28</td>\n",
       "      <td>0</td>\n",
       "      <td>0</td>\n",
       "      <td>1</td>\n",
       "      <td>0</td>\n",
       "      <td>0</td>\n",
       "      <td>1</td>\n",
       "      <td>0</td>\n",
       "      <td>0</td>\n",
       "      <td>1</td>\n",
       "    </tr>\n",
       "    <tr>\n",
       "      <th>32579</th>\n",
       "      <td>56</td>\n",
       "      <td>150000</td>\n",
       "      <td>5.0</td>\n",
       "      <td>15000</td>\n",
       "      <td>11.48</td>\n",
       "      <td>0.10</td>\n",
       "      <td>26</td>\n",
       "      <td>1</td>\n",
       "      <td>0</td>\n",
       "      <td>0</td>\n",
       "      <td>0</td>\n",
       "      <td>0</td>\n",
       "      <td>0</td>\n",
       "      <td>0</td>\n",
       "      <td>1</td>\n",
       "      <td>1</td>\n",
       "    </tr>\n",
       "    <tr>\n",
       "      <th>32780</th>\n",
       "      <td>66</td>\n",
       "      <td>42000</td>\n",
       "      <td>2.0</td>\n",
       "      <td>6475</td>\n",
       "      <td>9.99</td>\n",
       "      <td>0.15</td>\n",
       "      <td>30</td>\n",
       "      <td>0</td>\n",
       "      <td>0</td>\n",
       "      <td>1</td>\n",
       "      <td>0</td>\n",
       "      <td>0</td>\n",
       "      <td>0</td>\n",
       "      <td>1</td>\n",
       "      <td>0</td>\n",
       "      <td>1</td>\n",
       "    </tr>\n",
       "  </tbody>\n",
       "</table>\n",
       "<p>32581 rows × 16 columns</p>\n",
       "</div>"
      ],
      "text/plain": [
       "       Age  Income  Emp_length  Amount   Rate  Percent_income  Cred_length  \\\n",
       "Id                                                                           \n",
       "0       22   59000       123.0   35000  16.02            0.59            3   \n",
       "1       21    9600         5.0    1000  11.14            0.10            2   \n",
       "2       25    9600         1.0    5500  12.87            0.57            3   \n",
       "3       23   65500         4.0   35000  15.23            0.53            2   \n",
       "4       24   54400         8.0   35000  14.27            0.55            4   \n",
       "...    ...     ...         ...     ...    ...             ...          ...   \n",
       "32576   57   53000         1.0    5800  13.16            0.11           30   \n",
       "32577   54  120000         4.0   17625   7.49            0.15           19   \n",
       "32578   65   76000         3.0   35000  10.99            0.46           28   \n",
       "32579   56  150000         5.0   15000  11.48            0.10           26   \n",
       "32780   66   42000         2.0    6475   9.99            0.15           30   \n",
       "\n",
       "       Home_MORTGAGE  Home_OWN  Home_RENT  Intent_DEBTCONSOLIDATION  \\\n",
       "Id                                                                    \n",
       "0                  0         0          1                         0   \n",
       "1                  0         1          0                         0   \n",
       "2                  1         0          0                         0   \n",
       "3                  0         0          1                         0   \n",
       "4                  0         0          1                         0   \n",
       "...              ...       ...        ...                       ...   \n",
       "32576              1         0          0                         0   \n",
       "32577              1         0          0                         0   \n",
       "32578              0         0          1                         0   \n",
       "32579              1         0          0                         0   \n",
       "32780              0         0          1                         0   \n",
       "\n",
       "       Intent_EDUCATION  Intent_HOMEIMPROVEMENT  Intent_MEDICAL  \\\n",
       "Id                                                                \n",
       "0                     0                       0               0   \n",
       "1                     1                       0               0   \n",
       "2                     0                       0               1   \n",
       "3                     0                       0               1   \n",
       "4                     0                       0               1   \n",
       "...                 ...                     ...             ...   \n",
       "32576                 0                       0               0   \n",
       "32577                 0                       0               0   \n",
       "32578                 0                       1               0   \n",
       "32579                 0                       0               0   \n",
       "32780                 0                       0               1   \n",
       "\n",
       "       Intent_PERSONAL  Default_N  \n",
       "Id                                 \n",
       "0                    1          0  \n",
       "1                    0          1  \n",
       "2                    0          1  \n",
       "3                    0          1  \n",
       "4                    0          0  \n",
       "...                ...        ...  \n",
       "32576                1          1  \n",
       "32577                1          1  \n",
       "32578                0          1  \n",
       "32579                1          1  \n",
       "32780                0          1  \n",
       "\n",
       "[32581 rows x 16 columns]"
      ]
     },
     "execution_count": 886,
     "metadata": {},
     "output_type": "execute_result"
    }
   ],
   "source": [
    "x"
   ]
  },
  {
   "cell_type": "code",
   "execution_count": 887,
   "id": "b6e12f7d",
   "metadata": {},
   "outputs": [],
   "source": [
    "# Function to replace outliers with mean\n",
    "def replace_outliers_with_mean(column):\n",
    "    Q1 = column.quantile(0.25)\n",
    "    Q3 = column.quantile(0.75)\n",
    "    IQR = Q3 - Q1\n",
    "    lower_bound = Q1 - 1.5 * IQR\n",
    "    upper_bound = Q3 + 1.5 * IQR\n",
    "    column = column.apply(lambda x: x if lower_bound <= x <= upper_bound else column.mean())\n",
    "    return column"
   ]
  },
  {
   "cell_type": "code",
   "execution_count": 888,
   "id": "610f37b5",
   "metadata": {},
   "outputs": [],
   "source": [
    "# Apply the function to all numerical columns in the DataFrame\n",
    "numerical_columns = x.select_dtypes(include=['float64', 'int64']).columns\n",
    "x[numerical_columns] = x[numerical_columns].apply(replace_outliers_with_mean, axis=0)\n",
    "\n",
    "# Now, outliers in all numerical columns have been replaced with mean values"
   ]
  },
  {
   "cell_type": "code",
   "execution_count": 889,
   "id": "7454cdfe",
   "metadata": {},
   "outputs": [],
   "source": [
    "# scaling the x \n",
    "scaler = MinMaxScaler()\n",
    "x1 = scaler.fit_transform(x)"
   ]
  },
  {
   "cell_type": "code",
   "execution_count": 890,
   "id": "175eb8bf",
   "metadata": {},
   "outputs": [],
   "source": [
    "# Make the dataframe\n",
    "x1 = pd.DataFrame(x1, columns=x.columns)"
   ]
  },
  {
   "cell_type": "code",
   "execution_count": 891,
   "id": "701fe1e5",
   "metadata": {
    "scrolled": true
   },
   "outputs": [
    {
     "data": {
      "text/html": [
       "<div>\n",
       "<style scoped>\n",
       "    .dataframe tbody tr th:only-of-type {\n",
       "        vertical-align: middle;\n",
       "    }\n",
       "\n",
       "    .dataframe tbody tr th {\n",
       "        vertical-align: top;\n",
       "    }\n",
       "\n",
       "    .dataframe thead th {\n",
       "        text-align: right;\n",
       "    }\n",
       "</style>\n",
       "<table border=\"1\" class=\"dataframe\">\n",
       "  <thead>\n",
       "    <tr style=\"text-align: right;\">\n",
       "      <th></th>\n",
       "      <th>Age</th>\n",
       "      <th>Income</th>\n",
       "      <th>Emp_length</th>\n",
       "      <th>Amount</th>\n",
       "      <th>Rate</th>\n",
       "      <th>Percent_income</th>\n",
       "      <th>Cred_length</th>\n",
       "      <th>Home_MORTGAGE</th>\n",
       "      <th>Home_OWN</th>\n",
       "      <th>Home_RENT</th>\n",
       "      <th>Intent_DEBTCONSOLIDATION</th>\n",
       "      <th>Intent_EDUCATION</th>\n",
       "      <th>Intent_HOMEIMPROVEMENT</th>\n",
       "      <th>Intent_MEDICAL</th>\n",
       "      <th>Intent_PERSONAL</th>\n",
       "      <th>Default_N</th>\n",
       "    </tr>\n",
       "  </thead>\n",
       "  <tbody>\n",
       "    <tr>\n",
       "      <th>0</th>\n",
       "      <td>0.10000</td>\n",
       "      <td>0.404400</td>\n",
       "      <td>0.342120</td>\n",
       "      <td>0.403972</td>\n",
       "      <td>0.725530</td>\n",
       "      <td>0.386826</td>\n",
       "      <td>0.076923</td>\n",
       "      <td>0.0</td>\n",
       "      <td>0.0</td>\n",
       "      <td>1.0</td>\n",
       "      <td>0.0</td>\n",
       "      <td>0.0</td>\n",
       "      <td>0.0</td>\n",
       "      <td>0.0</td>\n",
       "      <td>1.0</td>\n",
       "      <td>0.0</td>\n",
       "    </tr>\n",
       "    <tr>\n",
       "      <th>1</th>\n",
       "      <td>0.05000</td>\n",
       "      <td>0.041175</td>\n",
       "      <td>0.357143</td>\n",
       "      <td>0.022222</td>\n",
       "      <td>0.391513</td>\n",
       "      <td>0.227273</td>\n",
       "      <td>0.000000</td>\n",
       "      <td>0.0</td>\n",
       "      <td>1.0</td>\n",
       "      <td>0.0</td>\n",
       "      <td>0.0</td>\n",
       "      <td>1.0</td>\n",
       "      <td>0.0</td>\n",
       "      <td>0.0</td>\n",
       "      <td>0.0</td>\n",
       "      <td>1.0</td>\n",
       "    </tr>\n",
       "    <tr>\n",
       "      <th>2</th>\n",
       "      <td>0.25000</td>\n",
       "      <td>0.041175</td>\n",
       "      <td>0.071429</td>\n",
       "      <td>0.222222</td>\n",
       "      <td>0.509925</td>\n",
       "      <td>0.386826</td>\n",
       "      <td>0.076923</td>\n",
       "      <td>1.0</td>\n",
       "      <td>0.0</td>\n",
       "      <td>0.0</td>\n",
       "      <td>0.0</td>\n",
       "      <td>0.0</td>\n",
       "      <td>0.0</td>\n",
       "      <td>1.0</td>\n",
       "      <td>0.0</td>\n",
       "      <td>1.0</td>\n",
       "    </tr>\n",
       "    <tr>\n",
       "      <th>3</th>\n",
       "      <td>0.15000</td>\n",
       "      <td>0.452193</td>\n",
       "      <td>0.285714</td>\n",
       "      <td>0.403972</td>\n",
       "      <td>0.671458</td>\n",
       "      <td>0.386826</td>\n",
       "      <td>0.000000</td>\n",
       "      <td>0.0</td>\n",
       "      <td>0.0</td>\n",
       "      <td>1.0</td>\n",
       "      <td>0.0</td>\n",
       "      <td>0.0</td>\n",
       "      <td>0.0</td>\n",
       "      <td>1.0</td>\n",
       "      <td>0.0</td>\n",
       "      <td>1.0</td>\n",
       "    </tr>\n",
       "    <tr>\n",
       "      <th>4</th>\n",
       "      <td>0.20000</td>\n",
       "      <td>0.370577</td>\n",
       "      <td>0.571429</td>\n",
       "      <td>0.403972</td>\n",
       "      <td>0.605749</td>\n",
       "      <td>0.386826</td>\n",
       "      <td>0.153846</td>\n",
       "      <td>0.0</td>\n",
       "      <td>0.0</td>\n",
       "      <td>1.0</td>\n",
       "      <td>0.0</td>\n",
       "      <td>0.0</td>\n",
       "      <td>0.0</td>\n",
       "      <td>1.0</td>\n",
       "      <td>0.0</td>\n",
       "      <td>0.0</td>\n",
       "    </tr>\n",
       "    <tr>\n",
       "      <th>...</th>\n",
       "      <td>...</td>\n",
       "      <td>...</td>\n",
       "      <td>...</td>\n",
       "      <td>...</td>\n",
       "      <td>...</td>\n",
       "      <td>...</td>\n",
       "      <td>...</td>\n",
       "      <td>...</td>\n",
       "      <td>...</td>\n",
       "      <td>...</td>\n",
       "      <td>...</td>\n",
       "      <td>...</td>\n",
       "      <td>...</td>\n",
       "      <td>...</td>\n",
       "      <td>...</td>\n",
       "      <td>...</td>\n",
       "    </tr>\n",
       "    <tr>\n",
       "      <th>32576</th>\n",
       "      <td>0.38673</td>\n",
       "      <td>0.360284</td>\n",
       "      <td>0.071429</td>\n",
       "      <td>0.235556</td>\n",
       "      <td>0.529774</td>\n",
       "      <td>0.250000</td>\n",
       "      <td>0.292632</td>\n",
       "      <td>1.0</td>\n",
       "      <td>0.0</td>\n",
       "      <td>0.0</td>\n",
       "      <td>0.0</td>\n",
       "      <td>0.0</td>\n",
       "      <td>0.0</td>\n",
       "      <td>0.0</td>\n",
       "      <td>1.0</td>\n",
       "      <td>1.0</td>\n",
       "    </tr>\n",
       "    <tr>\n",
       "      <th>32577</th>\n",
       "      <td>0.38673</td>\n",
       "      <td>0.852916</td>\n",
       "      <td>0.285714</td>\n",
       "      <td>0.761111</td>\n",
       "      <td>0.141684</td>\n",
       "      <td>0.340909</td>\n",
       "      <td>0.292632</td>\n",
       "      <td>1.0</td>\n",
       "      <td>0.0</td>\n",
       "      <td>0.0</td>\n",
       "      <td>0.0</td>\n",
       "      <td>0.0</td>\n",
       "      <td>0.0</td>\n",
       "      <td>0.0</td>\n",
       "      <td>1.0</td>\n",
       "      <td>1.0</td>\n",
       "    </tr>\n",
       "    <tr>\n",
       "      <th>32578</th>\n",
       "      <td>0.38673</td>\n",
       "      <td>0.529396</td>\n",
       "      <td>0.214286</td>\n",
       "      <td>0.403972</td>\n",
       "      <td>0.381246</td>\n",
       "      <td>0.386826</td>\n",
       "      <td>0.292632</td>\n",
       "      <td>0.0</td>\n",
       "      <td>0.0</td>\n",
       "      <td>1.0</td>\n",
       "      <td>0.0</td>\n",
       "      <td>0.0</td>\n",
       "      <td>1.0</td>\n",
       "      <td>0.0</td>\n",
       "      <td>0.0</td>\n",
       "      <td>1.0</td>\n",
       "    </tr>\n",
       "    <tr>\n",
       "      <th>32579</th>\n",
       "      <td>0.38673</td>\n",
       "      <td>0.456419</td>\n",
       "      <td>0.357143</td>\n",
       "      <td>0.644444</td>\n",
       "      <td>0.414784</td>\n",
       "      <td>0.227273</td>\n",
       "      <td>0.292632</td>\n",
       "      <td>1.0</td>\n",
       "      <td>0.0</td>\n",
       "      <td>0.0</td>\n",
       "      <td>0.0</td>\n",
       "      <td>0.0</td>\n",
       "      <td>0.0</td>\n",
       "      <td>0.0</td>\n",
       "      <td>1.0</td>\n",
       "      <td>1.0</td>\n",
       "    </tr>\n",
       "    <tr>\n",
       "      <th>32580</th>\n",
       "      <td>0.38673</td>\n",
       "      <td>0.279404</td>\n",
       "      <td>0.142857</td>\n",
       "      <td>0.265556</td>\n",
       "      <td>0.312799</td>\n",
       "      <td>0.340909</td>\n",
       "      <td>0.292632</td>\n",
       "      <td>0.0</td>\n",
       "      <td>0.0</td>\n",
       "      <td>1.0</td>\n",
       "      <td>0.0</td>\n",
       "      <td>0.0</td>\n",
       "      <td>0.0</td>\n",
       "      <td>1.0</td>\n",
       "      <td>0.0</td>\n",
       "      <td>1.0</td>\n",
       "    </tr>\n",
       "  </tbody>\n",
       "</table>\n",
       "<p>32581 rows × 16 columns</p>\n",
       "</div>"
      ],
      "text/plain": [
       "           Age    Income  Emp_length    Amount      Rate  Percent_income  \\\n",
       "0      0.10000  0.404400    0.342120  0.403972  0.725530        0.386826   \n",
       "1      0.05000  0.041175    0.357143  0.022222  0.391513        0.227273   \n",
       "2      0.25000  0.041175    0.071429  0.222222  0.509925        0.386826   \n",
       "3      0.15000  0.452193    0.285714  0.403972  0.671458        0.386826   \n",
       "4      0.20000  0.370577    0.571429  0.403972  0.605749        0.386826   \n",
       "...        ...       ...         ...       ...       ...             ...   \n",
       "32576  0.38673  0.360284    0.071429  0.235556  0.529774        0.250000   \n",
       "32577  0.38673  0.852916    0.285714  0.761111  0.141684        0.340909   \n",
       "32578  0.38673  0.529396    0.214286  0.403972  0.381246        0.386826   \n",
       "32579  0.38673  0.456419    0.357143  0.644444  0.414784        0.227273   \n",
       "32580  0.38673  0.279404    0.142857  0.265556  0.312799        0.340909   \n",
       "\n",
       "       Cred_length  Home_MORTGAGE  Home_OWN  Home_RENT  \\\n",
       "0         0.076923            0.0       0.0        1.0   \n",
       "1         0.000000            0.0       1.0        0.0   \n",
       "2         0.076923            1.0       0.0        0.0   \n",
       "3         0.000000            0.0       0.0        1.0   \n",
       "4         0.153846            0.0       0.0        1.0   \n",
       "...            ...            ...       ...        ...   \n",
       "32576     0.292632            1.0       0.0        0.0   \n",
       "32577     0.292632            1.0       0.0        0.0   \n",
       "32578     0.292632            0.0       0.0        1.0   \n",
       "32579     0.292632            1.0       0.0        0.0   \n",
       "32580     0.292632            0.0       0.0        1.0   \n",
       "\n",
       "       Intent_DEBTCONSOLIDATION  Intent_EDUCATION  Intent_HOMEIMPROVEMENT  \\\n",
       "0                           0.0               0.0                     0.0   \n",
       "1                           0.0               1.0                     0.0   \n",
       "2                           0.0               0.0                     0.0   \n",
       "3                           0.0               0.0                     0.0   \n",
       "4                           0.0               0.0                     0.0   \n",
       "...                         ...               ...                     ...   \n",
       "32576                       0.0               0.0                     0.0   \n",
       "32577                       0.0               0.0                     0.0   \n",
       "32578                       0.0               0.0                     1.0   \n",
       "32579                       0.0               0.0                     0.0   \n",
       "32580                       0.0               0.0                     0.0   \n",
       "\n",
       "       Intent_MEDICAL  Intent_PERSONAL  Default_N  \n",
       "0                 0.0              1.0        0.0  \n",
       "1                 0.0              0.0        1.0  \n",
       "2                 1.0              0.0        1.0  \n",
       "3                 1.0              0.0        1.0  \n",
       "4                 1.0              0.0        0.0  \n",
       "...               ...              ...        ...  \n",
       "32576             0.0              1.0        1.0  \n",
       "32577             0.0              1.0        1.0  \n",
       "32578             0.0              0.0        1.0  \n",
       "32579             0.0              1.0        1.0  \n",
       "32580             1.0              0.0        1.0  \n",
       "\n",
       "[32581 rows x 16 columns]"
      ]
     },
     "execution_count": 891,
     "metadata": {},
     "output_type": "execute_result"
    }
   ],
   "source": [
    "x1"
   ]
  },
  {
   "cell_type": "code",
   "execution_count": 892,
   "id": "b5533372",
   "metadata": {},
   "outputs": [
    {
     "data": {
      "text/plain": [
       "Id\n",
       "0        1\n",
       "1        0\n",
       "2        1\n",
       "3        1\n",
       "4        1\n",
       "        ..\n",
       "32576    0\n",
       "32577    0\n",
       "32578    1\n",
       "32579    0\n",
       "32780    0\n",
       "Name: Status, Length: 32581, dtype: int64"
      ]
     },
     "execution_count": 892,
     "metadata": {},
     "output_type": "execute_result"
    }
   ],
   "source": [
    "y = df1[\"Status\"]\n",
    "y"
   ]
  },
  {
   "cell_type": "code",
   "execution_count": 894,
   "id": "90b17e16",
   "metadata": {},
   "outputs": [],
   "source": [
    "x_train, x_test, y_train, y_test = train_test_split(x1,y, test_size=0.2)"
   ]
  },
  {
   "cell_type": "code",
   "execution_count": 921,
   "id": "86ec0569",
   "metadata": {},
   "outputs": [
    {
     "data": {
      "text/plain": [
       "<Axes: xlabel='Status', ylabel='Count'>"
      ]
     },
     "execution_count": 921,
     "metadata": {},
     "output_type": "execute_result"
    },
    {
     "data": {
      "image/png": "[encoded data removed]",
      "text/plain": [
       "<Figure size 640x480 with 1 Axes>"
      ]
     },
     "metadata": {},
     "output_type": "display_data"
    }
   ],
   "source": [
    "sns.histplot(y_train)"
   ]
  },
  {
   "cell_type": "code",
   "execution_count": 895,
   "id": "4df1b0d5",
   "metadata": {
    "scrolled": true
   },
   "outputs": [
    {
     "name": "stdout",
     "output_type": "stream",
     "text": [
      "The number of classes before fit Counter({0: 20359, 1: 5705})\n",
      "The number of classes after fit Counter({0: 20359, 1: 20359})\n"
     ]
    }
   ],
   "source": [
    "# resampling the imbalanced dataset\n",
    "sm=SMOTE(random_state=0)\n",
    "x_train_res, y_train_res = sm.fit_resample(x_train, y_train)\n",
    "print(\"The number of classes before fit {}\".format(Counter(y_train)))\n",
    "print(\"The number of classes after fit {}\".format(Counter(y_train_res)))"
   ]
  },
  {
   "cell_type": "code",
   "execution_count": 896,
   "id": "6d87f2e8",
   "metadata": {},
   "outputs": [
    {
     "data": {
      "text/html": [
       "<div>\n",
       "<style scoped>\n",
       "    .dataframe tbody tr th:only-of-type {\n",
       "        vertical-align: middle;\n",
       "    }\n",
       "\n",
       "    .dataframe tbody tr th {\n",
       "        vertical-align: top;\n",
       "    }\n",
       "\n",
       "    .dataframe thead th {\n",
       "        text-align: right;\n",
       "    }\n",
       "</style>\n",
       "<table border=\"1\" class=\"dataframe\">\n",
       "  <thead>\n",
       "    <tr style=\"text-align: right;\">\n",
       "      <th></th>\n",
       "      <th>Age</th>\n",
       "      <th>Income</th>\n",
       "      <th>Emp_length</th>\n",
       "      <th>Amount</th>\n",
       "      <th>Rate</th>\n",
       "      <th>Percent_income</th>\n",
       "      <th>Cred_length</th>\n",
       "      <th>Home_MORTGAGE</th>\n",
       "      <th>Home_OWN</th>\n",
       "      <th>Home_RENT</th>\n",
       "      <th>Intent_DEBTCONSOLIDATION</th>\n",
       "      <th>Intent_EDUCATION</th>\n",
       "      <th>Intent_HOMEIMPROVEMENT</th>\n",
       "      <th>Intent_MEDICAL</th>\n",
       "      <th>Intent_PERSONAL</th>\n",
       "      <th>Default_N</th>\n",
       "    </tr>\n",
       "  </thead>\n",
       "  <tbody>\n",
       "    <tr>\n",
       "      <th>0</th>\n",
       "      <td>0.200000</td>\n",
       "      <td>0.332578</td>\n",
       "      <td>0.571429</td>\n",
       "      <td>0.355556</td>\n",
       "      <td>0.076660</td>\n",
       "      <td>0.386364</td>\n",
       "      <td>0.153846</td>\n",
       "      <td>0.0</td>\n",
       "      <td>0.0</td>\n",
       "      <td>1.0</td>\n",
       "      <td>0.0</td>\n",
       "      <td>1.0</td>\n",
       "      <td>0.0</td>\n",
       "      <td>0.0</td>\n",
       "      <td>0.0</td>\n",
       "      <td>1.0</td>\n",
       "    </tr>\n",
       "    <tr>\n",
       "      <th>1</th>\n",
       "      <td>0.850000</td>\n",
       "      <td>0.279404</td>\n",
       "      <td>0.142857</td>\n",
       "      <td>0.351111</td>\n",
       "      <td>0.552361</td>\n",
       "      <td>0.454545</td>\n",
       "      <td>1.000000</td>\n",
       "      <td>0.0</td>\n",
       "      <td>0.0</td>\n",
       "      <td>1.0</td>\n",
       "      <td>0.0</td>\n",
       "      <td>0.0</td>\n",
       "      <td>0.0</td>\n",
       "      <td>0.0</td>\n",
       "      <td>0.0</td>\n",
       "      <td>1.0</td>\n",
       "    </tr>\n",
       "    <tr>\n",
       "      <th>2</th>\n",
       "      <td>0.850000</td>\n",
       "      <td>0.456419</td>\n",
       "      <td>1.000000</td>\n",
       "      <td>0.403972</td>\n",
       "      <td>0.039014</td>\n",
       "      <td>0.295455</td>\n",
       "      <td>0.292632</td>\n",
       "      <td>1.0</td>\n",
       "      <td>0.0</td>\n",
       "      <td>0.0</td>\n",
       "      <td>1.0</td>\n",
       "      <td>0.0</td>\n",
       "      <td>0.0</td>\n",
       "      <td>0.0</td>\n",
       "      <td>0.0</td>\n",
       "      <td>1.0</td>\n",
       "    </tr>\n",
       "    <tr>\n",
       "      <th>3</th>\n",
       "      <td>0.400000</td>\n",
       "      <td>0.411753</td>\n",
       "      <td>0.857143</td>\n",
       "      <td>0.044444</td>\n",
       "      <td>0.776865</td>\n",
       "      <td>0.068182</td>\n",
       "      <td>0.461538</td>\n",
       "      <td>0.0</td>\n",
       "      <td>0.0</td>\n",
       "      <td>1.0</td>\n",
       "      <td>0.0</td>\n",
       "      <td>0.0</td>\n",
       "      <td>1.0</td>\n",
       "      <td>0.0</td>\n",
       "      <td>0.0</td>\n",
       "      <td>0.0</td>\n",
       "    </tr>\n",
       "    <tr>\n",
       "      <th>4</th>\n",
       "      <td>0.300000</td>\n",
       "      <td>0.264698</td>\n",
       "      <td>0.214286</td>\n",
       "      <td>0.404444</td>\n",
       "      <td>0.605749</td>\n",
       "      <td>0.545455</td>\n",
       "      <td>0.153846</td>\n",
       "      <td>0.0</td>\n",
       "      <td>0.0</td>\n",
       "      <td>1.0</td>\n",
       "      <td>0.0</td>\n",
       "      <td>0.0</td>\n",
       "      <td>0.0</td>\n",
       "      <td>0.0</td>\n",
       "      <td>0.0</td>\n",
       "      <td>1.0</td>\n",
       "    </tr>\n",
       "    <tr>\n",
       "      <th>...</th>\n",
       "      <td>...</td>\n",
       "      <td>...</td>\n",
       "      <td>...</td>\n",
       "      <td>...</td>\n",
       "      <td>...</td>\n",
       "      <td>...</td>\n",
       "      <td>...</td>\n",
       "      <td>...</td>\n",
       "      <td>...</td>\n",
       "      <td>...</td>\n",
       "      <td>...</td>\n",
       "      <td>...</td>\n",
       "      <td>...</td>\n",
       "      <td>...</td>\n",
       "      <td>...</td>\n",
       "      <td>...</td>\n",
       "    </tr>\n",
       "    <tr>\n",
       "      <th>40713</th>\n",
       "      <td>0.424703</td>\n",
       "      <td>0.357463</td>\n",
       "      <td>0.250424</td>\n",
       "      <td>0.400264</td>\n",
       "      <td>0.382731</td>\n",
       "      <td>0.433168</td>\n",
       "      <td>0.307692</td>\n",
       "      <td>0.0</td>\n",
       "      <td>0.0</td>\n",
       "      <td>1.0</td>\n",
       "      <td>1.0</td>\n",
       "      <td>0.0</td>\n",
       "      <td>0.0</td>\n",
       "      <td>0.0</td>\n",
       "      <td>0.0</td>\n",
       "      <td>0.0</td>\n",
       "    </tr>\n",
       "    <tr>\n",
       "      <th>40714</th>\n",
       "      <td>0.476535</td>\n",
       "      <td>0.186914</td>\n",
       "      <td>0.041351</td>\n",
       "      <td>0.081874</td>\n",
       "      <td>0.378223</td>\n",
       "      <td>0.180628</td>\n",
       "      <td>0.838043</td>\n",
       "      <td>0.0</td>\n",
       "      <td>0.0</td>\n",
       "      <td>1.0</td>\n",
       "      <td>0.0</td>\n",
       "      <td>0.0</td>\n",
       "      <td>0.0</td>\n",
       "      <td>0.0</td>\n",
       "      <td>1.0</td>\n",
       "      <td>1.0</td>\n",
       "    </tr>\n",
       "    <tr>\n",
       "      <th>40715</th>\n",
       "      <td>0.283987</td>\n",
       "      <td>0.188826</td>\n",
       "      <td>0.048553</td>\n",
       "      <td>0.178329</td>\n",
       "      <td>0.481704</td>\n",
       "      <td>0.339125</td>\n",
       "      <td>0.153846</td>\n",
       "      <td>0.0</td>\n",
       "      <td>0.0</td>\n",
       "      <td>1.0</td>\n",
       "      <td>0.0</td>\n",
       "      <td>0.0</td>\n",
       "      <td>0.0</td>\n",
       "      <td>0.0</td>\n",
       "      <td>1.0</td>\n",
       "      <td>1.0</td>\n",
       "    </tr>\n",
       "    <tr>\n",
       "      <th>40716</th>\n",
       "      <td>0.186524</td>\n",
       "      <td>0.149036</td>\n",
       "      <td>0.214286</td>\n",
       "      <td>0.422222</td>\n",
       "      <td>0.282247</td>\n",
       "      <td>0.942294</td>\n",
       "      <td>0.020733</td>\n",
       "      <td>0.0</td>\n",
       "      <td>0.0</td>\n",
       "      <td>1.0</td>\n",
       "      <td>0.0</td>\n",
       "      <td>0.0</td>\n",
       "      <td>0.0</td>\n",
       "      <td>0.0</td>\n",
       "      <td>0.0</td>\n",
       "      <td>1.0</td>\n",
       "    </tr>\n",
       "    <tr>\n",
       "      <th>40717</th>\n",
       "      <td>0.250000</td>\n",
       "      <td>0.206436</td>\n",
       "      <td>0.142857</td>\n",
       "      <td>0.235139</td>\n",
       "      <td>0.367256</td>\n",
       "      <td>0.414514</td>\n",
       "      <td>0.000000</td>\n",
       "      <td>0.0</td>\n",
       "      <td>0.0</td>\n",
       "      <td>1.0</td>\n",
       "      <td>0.0</td>\n",
       "      <td>0.0</td>\n",
       "      <td>0.0</td>\n",
       "      <td>1.0</td>\n",
       "      <td>0.0</td>\n",
       "      <td>1.0</td>\n",
       "    </tr>\n",
       "  </tbody>\n",
       "</table>\n",
       "<p>40718 rows × 16 columns</p>\n",
       "</div>"
      ],
      "text/plain": [
       "            Age    Income  Emp_length    Amount      Rate  Percent_income  \\\n",
       "0      0.200000  0.332578    0.571429  0.355556  0.076660        0.386364   \n",
       "1      0.850000  0.279404    0.142857  0.351111  0.552361        0.454545   \n",
       "2      0.850000  0.456419    1.000000  0.403972  0.039014        0.295455   \n",
       "3      0.400000  0.411753    0.857143  0.044444  0.776865        0.068182   \n",
       "4      0.300000  0.264698    0.214286  0.404444  0.605749        0.545455   \n",
       "...         ...       ...         ...       ...       ...             ...   \n",
       "40713  0.424703  0.357463    0.250424  0.400264  0.382731        0.433168   \n",
       "40714  0.476535  0.186914    0.041351  0.081874  0.378223        0.180628   \n",
       "40715  0.283987  0.188826    0.048553  0.178329  0.481704        0.339125   \n",
       "40716  0.186524  0.149036    0.214286  0.422222  0.282247        0.942294   \n",
       "40717  0.250000  0.206436    0.142857  0.235139  0.367256        0.414514   \n",
       "\n",
       "       Cred_length  Home_MORTGAGE  Home_OWN  Home_RENT  \\\n",
       "0         0.153846            0.0       0.0        1.0   \n",
       "1         1.000000            0.0       0.0        1.0   \n",
       "2         0.292632            1.0       0.0        0.0   \n",
       "3         0.461538            0.0       0.0        1.0   \n",
       "4         0.153846            0.0       0.0        1.0   \n",
       "...            ...            ...       ...        ...   \n",
       "40713     0.307692            0.0       0.0        1.0   \n",
       "40714     0.838043            0.0       0.0        1.0   \n",
       "40715     0.153846            0.0       0.0        1.0   \n",
       "40716     0.020733            0.0       0.0        1.0   \n",
       "40717     0.000000            0.0       0.0        1.0   \n",
       "\n",
       "       Intent_DEBTCONSOLIDATION  Intent_EDUCATION  Intent_HOMEIMPROVEMENT  \\\n",
       "0                           0.0               1.0                     0.0   \n",
       "1                           0.0               0.0                     0.0   \n",
       "2                           1.0               0.0                     0.0   \n",
       "3                           0.0               0.0                     1.0   \n",
       "4                           0.0               0.0                     0.0   \n",
       "...                         ...               ...                     ...   \n",
       "40713                       1.0               0.0                     0.0   \n",
       "40714                       0.0               0.0                     0.0   \n",
       "40715                       0.0               0.0                     0.0   \n",
       "40716                       0.0               0.0                     0.0   \n",
       "40717                       0.0               0.0                     0.0   \n",
       "\n",
       "       Intent_MEDICAL  Intent_PERSONAL  Default_N  \n",
       "0                 0.0              0.0        1.0  \n",
       "1                 0.0              0.0        1.0  \n",
       "2                 0.0              0.0        1.0  \n",
       "3                 0.0              0.0        0.0  \n",
       "4                 0.0              0.0        1.0  \n",
       "...               ...              ...        ...  \n",
       "40713             0.0              0.0        0.0  \n",
       "40714             0.0              1.0        1.0  \n",
       "40715             0.0              1.0        1.0  \n",
       "40716             0.0              0.0        1.0  \n",
       "40717             1.0              0.0        1.0  \n",
       "\n",
       "[40718 rows x 16 columns]"
      ]
     },
     "execution_count": 896,
     "metadata": {},
     "output_type": "execute_result"
    }
   ],
   "source": [
    "x_train_res"
   ]
  },
  {
   "cell_type": "markdown",
   "id": "91985c81",
   "metadata": {},
   "source": [
    "# Models"
   ]
  },
  {
   "cell_type": "code",
   "execution_count": 897,
   "id": "98fd0513",
   "metadata": {},
   "outputs": [
    {
     "name": "stdout",
     "output_type": "stream",
     "text": [
      "Test Accuracy for Random Forest: 0.91\n",
      "Test Accuracy for Logistic Regression: 0.76\n",
      "Test Accuracy for K-Nearest Neighbors: 0.79\n",
      "Test Accuracy for AdaBoost: 0.83\n",
      "Test Accuracy for XGBoost: 0.93\n"
     ]
    }
   ],
   "source": [
    "models = {\n",
    "    'Random Forest': RandomForestClassifier(),\n",
    "    'Logistic Regression': LogisticRegression(),\n",
    "    'K-Nearest Neighbors': KNeighborsClassifier(),\n",
    "    'AdaBoost': AdaBoostClassifier(),\n",
    "    'XGBoost': XGBClassifier()\n",
    "}\n",
    "\n",
    "# Iterate over different models\n",
    "for model_name, model in models.items():\n",
    "    # Train the model\n",
    "    model.fit(x_train_res, y_train_res)\n",
    "    \n",
    "    # Make predictions on the test set\n",
    "    predictions = model.predict(x_test)\n",
    "    \n",
    "    # Calculate and print accuracy\n",
    "    accuracy = accuracy_score(y_test, predictions)\n",
    "    print(f\"Test Accuracy for {model_name}: {accuracy:.2f}\")"
   ]
  },
  {
   "cell_type": "markdown",
   "id": "ee251469",
   "metadata": {},
   "source": [
    "## Random forest"
   ]
  },
  {
   "cell_type": "code",
   "execution_count": 922,
   "id": "c5641815",
   "metadata": {},
   "outputs": [],
   "source": [
    "rf = RandomForestClassifier(min_samples_split=8, min_samples_leaf=7, max_features=\"log2\",max_depth=11)"
   ]
  },
  {
   "cell_type": "code",
   "execution_count": 923,
   "id": "b3118098",
   "metadata": {},
   "outputs": [
    {
     "data": {
      "text/html": [
       "<style>#sk-container-id-56 {color: black;background-color: white;}#sk-container-id-56 pre{padding: 0;}#sk-container-id-56 div.sk-toggleable {background-color: white;}#sk-container-id-56 label.sk-toggleable__label {cursor: pointer;display: block;width: 100%;margin-bottom: 0;padding: 0.3em;box-sizing: border-box;text-align: center;}#sk-container-id-56 label.sk-toggleable__label-arrow:before {content: \"▸\";float: left;margin-right: 0.25em;color: #696969;}#sk-container-id-56 label.sk-toggleable__label-arrow:hover:before {color: black;}#sk-container-id-56 div.sk-estimator:hover label.sk-toggleable__label-arrow:before {color: black;}#sk-container-id-56 div.sk-toggleable__content {max-height: 0;max-width: 0;overflow: hidden;text-align: left;background-color: #f0f8ff;}#sk-container-id-56 div.sk-toggleable__content pre {margin: 0.2em;color: black;border-radius: 0.25em;background-color: #f0f8ff;}#sk-container-id-56 input.sk-toggleable__control:checked~div.sk-toggleable__content {max-height: 200px;max-width: 100%;overflow: auto;}#sk-container-id-56 input.sk-toggleable__control:checked~label.sk-toggleable__label-arrow:before {content: \"▾\";}#sk-container-id-56 div.sk-estimator input.sk-toggleable__control:checked~label.sk-toggleable__label {background-color: #d4ebff;}#sk-container-id-56 div.sk-label input.sk-toggleable__control:checked~label.sk-toggleable__label {background-color: #d4ebff;}#sk-container-id-56 input.sk-hidden--visually {border: 0;clip: rect(1px 1px 1px 1px);clip: rect(1px, 1px, 1px, 1px);height: 1px;margin: -1px;overflow: hidden;padding: 0;position: absolute;width: 1px;}#sk-container-id-56 div.sk-estimator {font-family: monospace;background-color: #f0f8ff;border: 1px dotted black;border-radius: 0.25em;box-sizing: border-box;margin-bottom: 0.5em;}#sk-container-id-56 div.sk-estimator:hover {background-color: #d4ebff;}#sk-container-id-56 div.sk-parallel-item::after {content: \"\";width: 100%;border-bottom: 1px solid gray;flex-grow: 1;}#sk-container-id-56 div.sk-label:hover label.sk-toggleable__label {background-color: #d4ebff;}#sk-container-id-56 div.sk-serial::before {content: \"\";position: absolute;border-left: 1px solid gray;box-sizing: border-box;top: 0;bottom: 0;left: 50%;z-index: 0;}#sk-container-id-56 div.sk-serial {display: flex;flex-direction: column;align-items: center;background-color: white;padding-right: 0.2em;padding-left: 0.2em;position: relative;}#sk-container-id-56 div.sk-item {position: relative;z-index: 1;}#sk-container-id-56 div.sk-parallel {display: flex;align-items: stretch;justify-content: center;background-color: white;position: relative;}#sk-container-id-56 div.sk-item::before, #sk-container-id-56 div.sk-parallel-item::before {content: \"\";position: absolute;border-left: 1px solid gray;box-sizing: border-box;top: 0;bottom: 0;left: 50%;z-index: -1;}#sk-container-id-56 div.sk-parallel-item {display: flex;flex-direction: column;z-index: 1;position: relative;background-color: white;}#sk-container-id-56 div.sk-parallel-item:first-child::after {align-self: flex-end;width: 50%;}#sk-container-id-56 div.sk-parallel-item:last-child::after {align-self: flex-start;width: 50%;}#sk-container-id-56 div.sk-parallel-item:only-child::after {width: 0;}#sk-container-id-56 div.sk-dashed-wrapped {border: 1px dashed gray;margin: 0 0.4em 0.5em 0.4em;box-sizing: border-box;padding-bottom: 0.4em;background-color: white;}#sk-container-id-56 div.sk-label label {font-family: monospace;font-weight: bold;display: inline-block;line-height: 1.2em;}#sk-container-id-56 div.sk-label-container {text-align: center;}#sk-container-id-56 div.sk-container {/* jupyter's `normalize.less` sets `[hidden] { display: none; }` but bootstrap.min.css set `[hidden] { display: none !important; }` so we also need the `!important` here to be able to override the default hidden behavior on the sphinx rendered scikit-learn.org. See: https://github.com/scikit-learn/scikit-learn/issues/21755 */display: inline-block !important;position: relative;}#sk-container-id-56 div.sk-text-repr-fallback {display: none;}</style><div id=\"sk-container-id-56\" class=\"sk-top-container\"><div class=\"sk-text-repr-fallback\"><pre>RandomForestClassifier(max_depth=11, max_features=&#x27;log2&#x27;, min_samples_leaf=7,\n",
       "                       min_samples_split=8)</pre><b>In a Jupyter environment, please rerun this cell to show the HTML representation or trust the notebook. <br />On GitHub, the HTML representation is unable to render, please try loading this page with nbviewer.org.</b></div><div class=\"sk-container\" hidden><div class=\"sk-item\"><div class=\"sk-estimator sk-toggleable\"><input class=\"sk-toggleable__control sk-hidden--visually\" id=\"sk-estimator-id-64\" type=\"checkbox\" checked><label for=\"sk-estimator-id-64\" class=\"sk-toggleable__label sk-toggleable__label-arrow\">RandomForestClassifier</label><div class=\"sk-toggleable__content\"><pre>RandomForestClassifier(max_depth=11, max_features=&#x27;log2&#x27;, min_samples_leaf=7,\n",
       "                       min_samples_split=8)</pre></div></div></div></div></div>"
      ],
      "text/plain": [
       "RandomForestClassifier(max_depth=11, max_features='log2', min_samples_leaf=7,\n",
       "                       min_samples_split=8)"
      ]
     },
     "execution_count": 923,
     "metadata": {},
     "output_type": "execute_result"
    }
   ],
   "source": [
    "rf.fit(x_train_res, y_train_res)"
   ]
  },
  {
   "cell_type": "code",
   "execution_count": 924,
   "id": "fe9881dd",
   "metadata": {},
   "outputs": [],
   "source": [
    "pred_train = rf.predict(x_train)"
   ]
  },
  {
   "cell_type": "code",
   "execution_count": 925,
   "id": "697af944",
   "metadata": {},
   "outputs": [],
   "source": [
    "# got the train accuracy as 1, which is clearly the case of overfiting \n",
    "# changed the parameters of the model "
   ]
  },
  {
   "cell_type": "code",
   "execution_count": 926,
   "id": "dd7333cb",
   "metadata": {},
   "outputs": [
    {
     "data": {
      "text/plain": [
       "0.9137891344383057"
      ]
     },
     "execution_count": 926,
     "metadata": {},
     "output_type": "execute_result"
    }
   ],
   "source": [
    "train_accuracy = accuracy_score(y_train, pred_train)\n",
    "train_accuracy"
   ]
  },
  {
   "cell_type": "code",
   "execution_count": 927,
   "id": "bd32caaa",
   "metadata": {},
   "outputs": [],
   "source": [
    "pred_test = rf.predict(x_test)"
   ]
  },
  {
   "cell_type": "code",
   "execution_count": 928,
   "id": "7b21b3b4",
   "metadata": {},
   "outputs": [
    {
     "data": {
      "text/plain": [
       "0.8902869418444069"
      ]
     },
     "execution_count": 928,
     "metadata": {},
     "output_type": "execute_result"
    }
   ],
   "source": [
    "test_accuracy = accuracy_score(y_test, pred_test)\n",
    "test_accuracy"
   ]
  },
  {
   "cell_type": "code",
   "execution_count": 929,
   "id": "bab9b5a9",
   "metadata": {},
   "outputs": [
    {
     "data": {
      "text/plain": [
       "array([0.02347741, 0.1827267 , 0.04209589, 0.05822653, 0.2250164 ,\n",
       "       0.2202194 , 0.03281503, 0.02821895, 0.0235011 , 0.07282279,\n",
       "       0.01657223, 0.00554673, 0.01635122, 0.01420713, 0.00270469,\n",
       "       0.0354978 ])"
      ]
     },
     "execution_count": 929,
     "metadata": {},
     "output_type": "execute_result"
    }
   ],
   "source": [
    "rf.feature_importances_"
   ]
  },
  {
   "cell_type": "code",
   "execution_count": 930,
   "id": "3fdfdc16",
   "metadata": {},
   "outputs": [
    {
     "name": "stdout",
     "output_type": "stream",
     "text": [
      "              precision    recall  f1-score   support\n",
      "\n",
      "           0       0.92      0.94      0.93      5114\n",
      "           1       0.76      0.71      0.74      1403\n",
      "\n",
      "    accuracy                           0.89      6517\n",
      "   macro avg       0.84      0.83      0.83      6517\n",
      "weighted avg       0.89      0.89      0.89      6517\n",
      "\n"
     ]
    }
   ],
   "source": [
    "print(classification_report(y_test,pred_test))"
   ]
  },
  {
   "cell_type": "code",
   "execution_count": 907,
   "id": "f19047e7",
   "metadata": {},
   "outputs": [
    {
     "data": {
      "image/png": "[encoded data removed]",
      "text/plain": [
       "<Figure size 640x480 with 1 Axes>"
      ]
     },
     "metadata": {},
     "output_type": "display_data"
    },
    {
     "name": "stdout",
     "output_type": "stream",
     "text": [
      "ROC AUC Score: 0.8291798735097788\n"
     ]
    }
   ],
   "source": [
    "# Calculate the false positive rate (FPR), true positive rate (TPR), and thresholds\n",
    "fpr, tpr, thresholds = roc_curve(y_test, pred_test)\n",
    "\n",
    "# Plot the ROC curve\n",
    "plt.plot(fpr, tpr)\n",
    "plt.xlabel('False Positive Rate')\n",
    "plt.ylabel('True Positive Rate')\n",
    "plt.title('ROC Curve')\n",
    "plt.show()\n",
    "\n",
    "# Calculate the ROC AUC score\n",
    "roc_auc = roc_auc_score(y_test, pred_test)\n",
    "print(\"ROC AUC Score:\", roc_auc)"
   ]
  },
  {
   "cell_type": "code",
   "execution_count": 908,
   "id": "dbd1e926",
   "metadata": {},
   "outputs": [],
   "source": [
    "# Hyperparamet tuning for random forest then used the it in the above model "
   ]
  },
  {
   "cell_type": "code",
   "execution_count": 909,
   "id": "76724663",
   "metadata": {},
   "outputs": [],
   "source": [
    "# randomforest_model = RandomForestClassifier()\n",
    "\n",
    "# param_grid1 = {\n",
    "#     'n_estimators': [300],\n",
    "#     'min_samples_split': [7],\n",
    "#     'min_samples_leaf': [1],\n",
    "#     'max_features':['log2'] # total no. of  features to be considered for evry DT\n",
    "# }\n",
    "\n",
    "# random_search_rf = RandomizedSearchCV(\n",
    "#     estimator=randomforest_model,\n",
    "#     param_distributions=param_grid1,\n",
    "#     cv=3,\n",
    "#     n_iter=10,\n",
    "#     scoring='accuracy',\n",
    "#     random_state=42\n",
    "# )"
   ]
  },
  {
   "cell_type": "code",
   "execution_count": 910,
   "id": "28653c93",
   "metadata": {},
   "outputs": [],
   "source": [
    "# random_search_rf.fit(x_train_res,y_train_res)"
   ]
  },
  {
   "cell_type": "code",
   "execution_count": 911,
   "id": "924038d8",
   "metadata": {},
   "outputs": [],
   "source": [
    "# random_search_rf.best_params_"
   ]
  },
  {
   "cell_type": "markdown",
   "id": "5aaf8509",
   "metadata": {},
   "source": [
    "### xgboost"
   ]
  },
  {
   "cell_type": "code",
   "execution_count": 912,
   "id": "4a253cfb",
   "metadata": {},
   "outputs": [],
   "source": [
    "xg = XGBClassifier()"
   ]
  },
  {
   "cell_type": "code",
   "execution_count": 913,
   "id": "502ff5fa",
   "metadata": {},
   "outputs": [
    {
     "data": {
      "text/html": [
       "<style>#sk-container-id-55 {color: black;background-color: white;}#sk-container-id-55 pre{padding: 0;}#sk-container-id-55 div.sk-toggleable {background-color: white;}#sk-container-id-55 label.sk-toggleable__label {cursor: pointer;display: block;width: 100%;margin-bottom: 0;padding: 0.3em;box-sizing: border-box;text-align: center;}#sk-container-id-55 label.sk-toggleable__label-arrow:before {content: \"▸\";float: left;margin-right: 0.25em;color: #696969;}#sk-container-id-55 label.sk-toggleable__label-arrow:hover:before {color: black;}#sk-container-id-55 div.sk-estimator:hover label.sk-toggleable__label-arrow:before {color: black;}#sk-container-id-55 div.sk-toggleable__content {max-height: 0;max-width: 0;overflow: hidden;text-align: left;background-color: #f0f8ff;}#sk-container-id-55 div.sk-toggleable__content pre {margin: 0.2em;color: black;border-radius: 0.25em;background-color: #f0f8ff;}#sk-container-id-55 input.sk-toggleable__control:checked~div.sk-toggleable__content {max-height: 200px;max-width: 100%;overflow: auto;}#sk-container-id-55 input.sk-toggleable__control:checked~label.sk-toggleable__label-arrow:before {content: \"▾\";}#sk-container-id-55 div.sk-estimator input.sk-toggleable__control:checked~label.sk-toggleable__label {background-color: #d4ebff;}#sk-container-id-55 div.sk-label input.sk-toggleable__control:checked~label.sk-toggleable__label {background-color: #d4ebff;}#sk-container-id-55 input.sk-hidden--visually {border: 0;clip: rect(1px 1px 1px 1px);clip: rect(1px, 1px, 1px, 1px);height: 1px;margin: -1px;overflow: hidden;padding: 0;position: absolute;width: 1px;}#sk-container-id-55 div.sk-estimator {font-family: monospace;background-color: #f0f8ff;border: 1px dotted black;border-radius: 0.25em;box-sizing: border-box;margin-bottom: 0.5em;}#sk-container-id-55 div.sk-estimator:hover {background-color: #d4ebff;}#sk-container-id-55 div.sk-parallel-item::after {content: \"\";width: 100%;border-bottom: 1px solid gray;flex-grow: 1;}#sk-container-id-55 div.sk-label:hover label.sk-toggleable__label {background-color: #d4ebff;}#sk-container-id-55 div.sk-serial::before {content: \"\";position: absolute;border-left: 1px solid gray;box-sizing: border-box;top: 0;bottom: 0;left: 50%;z-index: 0;}#sk-container-id-55 div.sk-serial {display: flex;flex-direction: column;align-items: center;background-color: white;padding-right: 0.2em;padding-left: 0.2em;position: relative;}#sk-container-id-55 div.sk-item {position: relative;z-index: 1;}#sk-container-id-55 div.sk-parallel {display: flex;align-items: stretch;justify-content: center;background-color: white;position: relative;}#sk-container-id-55 div.sk-item::before, #sk-container-id-55 div.sk-parallel-item::before {content: \"\";position: absolute;border-left: 1px solid gray;box-sizing: border-box;top: 0;bottom: 0;left: 50%;z-index: -1;}#sk-container-id-55 div.sk-parallel-item {display: flex;flex-direction: column;z-index: 1;position: relative;background-color: white;}#sk-container-id-55 div.sk-parallel-item:first-child::after {align-self: flex-end;width: 50%;}#sk-container-id-55 div.sk-parallel-item:last-child::after {align-self: flex-start;width: 50%;}#sk-container-id-55 div.sk-parallel-item:only-child::after {width: 0;}#sk-container-id-55 div.sk-dashed-wrapped {border: 1px dashed gray;margin: 0 0.4em 0.5em 0.4em;box-sizing: border-box;padding-bottom: 0.4em;background-color: white;}#sk-container-id-55 div.sk-label label {font-family: monospace;font-weight: bold;display: inline-block;line-height: 1.2em;}#sk-container-id-55 div.sk-label-container {text-align: center;}#sk-container-id-55 div.sk-container {/* jupyter's `normalize.less` sets `[hidden] { display: none; }` but bootstrap.min.css set `[hidden] { display: none !important; }` so we also need the `!important` here to be able to override the default hidden behavior on the sphinx rendered scikit-learn.org. See: https://github.com/scikit-learn/scikit-learn/issues/21755 */display: inline-block !important;position: relative;}#sk-container-id-55 div.sk-text-repr-fallback {display: none;}</style><div id=\"sk-container-id-55\" class=\"sk-top-container\"><div class=\"sk-text-repr-fallback\"><pre>XGBClassifier(base_score=None, booster=None, callbacks=None,\n",
       "              colsample_bylevel=None, colsample_bynode=None,\n",
       "              colsample_bytree=None, early_stopping_rounds=None,\n",
       "              enable_categorical=False, eval_metric=None, feature_types=None,\n",
       "              gamma=None, gpu_id=None, grow_policy=None, importance_type=None,\n",
       "              interaction_constraints=None, learning_rate=None, max_bin=None,\n",
       "              max_cat_threshold=None, max_cat_to_onehot=None,\n",
       "              max_delta_step=None, max_depth=None, max_leaves=None,\n",
       "              min_child_weight=None, missing=nan, monotone_constraints=None,\n",
       "              n_estimators=100, n_jobs=None, num_parallel_tree=None,\n",
       "              predictor=None, random_state=None, ...)</pre><b>In a Jupyter environment, please rerun this cell to show the HTML representation or trust the notebook. <br />On GitHub, the HTML representation is unable to render, please try loading this page with nbviewer.org.</b></div><div class=\"sk-container\" hidden><div class=\"sk-item\"><div class=\"sk-estimator sk-toggleable\"><input class=\"sk-toggleable__control sk-hidden--visually\" id=\"sk-estimator-id-63\" type=\"checkbox\" checked><label for=\"sk-estimator-id-63\" class=\"sk-toggleable__label sk-toggleable__label-arrow\">XGBClassifier</label><div class=\"sk-toggleable__content\"><pre>XGBClassifier(base_score=None, booster=None, callbacks=None,\n",
       "              colsample_bylevel=None, colsample_bynode=None,\n",
       "              colsample_bytree=None, early_stopping_rounds=None,\n",
       "              enable_categorical=False, eval_metric=None, feature_types=None,\n",
       "              gamma=None, gpu_id=None, grow_policy=None, importance_type=None,\n",
       "              interaction_constraints=None, learning_rate=None, max_bin=None,\n",
       "              max_cat_threshold=None, max_cat_to_onehot=None,\n",
       "              max_delta_step=None, max_depth=None, max_leaves=None,\n",
       "              min_child_weight=None, missing=nan, monotone_constraints=None,\n",
       "              n_estimators=100, n_jobs=None, num_parallel_tree=None,\n",
       "              predictor=None, random_state=None, ...)</pre></div></div></div></div></div>"
      ],
      "text/plain": [
       "XGBClassifier(base_score=None, booster=None, callbacks=None,\n",
       "              colsample_bylevel=None, colsample_bynode=None,\n",
       "              colsample_bytree=None, early_stopping_rounds=None,\n",
       "              enable_categorical=False, eval_metric=None, feature_types=None,\n",
       "              gamma=None, gpu_id=None, grow_policy=None, importance_type=None,\n",
       "              interaction_constraints=None, learning_rate=None, max_bin=None,\n",
       "              max_cat_threshold=None, max_cat_to_onehot=None,\n",
       "              max_delta_step=None, max_depth=None, max_leaves=None,\n",
       "              min_child_weight=None, missing=nan, monotone_constraints=None,\n",
       "              n_estimators=100, n_jobs=None, num_parallel_tree=None,\n",
       "              predictor=None, random_state=None, ...)"
      ]
     },
     "execution_count": 913,
     "metadata": {},
     "output_type": "execute_result"
    }
   ],
   "source": [
    "xg.fit(x_train_res, y_train_res)"
   ]
  },
  {
   "cell_type": "code",
   "execution_count": 914,
   "id": "73be3f9b",
   "metadata": {},
   "outputs": [],
   "source": [
    "pred_train1 = xg.predict(x_train)"
   ]
  },
  {
   "cell_type": "code",
   "execution_count": 915,
   "id": "015bf3c7",
   "metadata": {},
   "outputs": [
    {
     "data": {
      "text/plain": [
       "0.9489717618170657"
      ]
     },
     "execution_count": 915,
     "metadata": {},
     "output_type": "execute_result"
    }
   ],
   "source": [
    "train_accuracy1 = accuracy_score(y_train, pred_train1)\n",
    "train_accuracy1"
   ]
  },
  {
   "cell_type": "code",
   "execution_count": 916,
   "id": "bce9bd03",
   "metadata": {},
   "outputs": [],
   "source": [
    "pred_test1 = xg.predict(x_test)"
   ]
  },
  {
   "cell_type": "code",
   "execution_count": 917,
   "id": "c3fd65a6",
   "metadata": {},
   "outputs": [
    {
     "data": {
      "text/plain": [
       "0.9255792542580942"
      ]
     },
     "execution_count": 917,
     "metadata": {},
     "output_type": "execute_result"
    }
   ],
   "source": [
    "test_accuracy1 = accuracy_score(y_test, pred_test1)\n",
    "test_accuracy1"
   ]
  },
  {
   "cell_type": "code",
   "execution_count": 918,
   "id": "43e13bcc",
   "metadata": {},
   "outputs": [
    {
     "data": {
      "text/plain": [
       "array([0.0388951 , 0.05129757, 0.05789849, 0.01955277, 0.07272838,\n",
       "       0.1151679 , 0.09078209, 0.03123002, 0.10414585, 0.17382096,\n",
       "       0.04872897, 0.02019835, 0.05698984, 0.06705403, 0.01559551,\n",
       "       0.03591418], dtype=float32)"
      ]
     },
     "execution_count": 918,
     "metadata": {},
     "output_type": "execute_result"
    }
   ],
   "source": [
    "xg.feature_importances_"
   ]
  },
  {
   "cell_type": "code",
   "execution_count": 919,
   "id": "d80cebc9",
   "metadata": {},
   "outputs": [
    {
     "name": "stdout",
     "output_type": "stream",
     "text": [
      "              precision    recall  f1-score   support\n",
      "\n",
      "           0       0.92      0.94      0.93      5114\n",
      "           1       0.76      0.72      0.74      1403\n",
      "\n",
      "    accuracy                           0.89      6517\n",
      "   macro avg       0.84      0.83      0.84      6517\n",
      "weighted avg       0.89      0.89      0.89      6517\n",
      "\n"
     ]
    }
   ],
   "source": [
    "print(classification_report(y_test,pred_test))"
   ]
  },
  {
   "cell_type": "code",
   "execution_count": 920,
   "id": "e62b3280",
   "metadata": {
    "scrolled": false
   },
   "outputs": [
    {
     "data": {
      "image/png": "[encoded data removed]",
      "text/plain": [
       "<Figure size 640x480 with 1 Axes>"
      ]
     },
     "metadata": {},
     "output_type": "display_data"
    },
    {
     "name": "stdout",
     "output_type": "stream",
     "text": [
      "ROC AUC Score: 0.8460345045297928\n"
     ]
    }
   ],
   "source": [
    "# Calculate the false positive rate (FPR), true positive rate (TPR), and thresholds\n",
    "fpr1, tpr1, thresholds1 = roc_curve(y_test, pred_test1)\n",
    "\n",
    "# Plot the ROC curve\n",
    "plt.plot(fpr1, tpr1)\n",
    "plt.xlabel('False Positive Rate')\n",
    "plt.ylabel('True Positive Rate')\n",
    "plt.title('ROC Curve')\n",
    "plt.show()\n",
    "\n",
    "# Calculate the ROC AUC score\n",
    "roc_auc1 = roc_auc_score(y_test, pred_test1)\n",
    "print(\"ROC AUC Score:\", roc_auc1)"
   ]
  }
 ],
 "metadata": {
  "kernelspec": {
   "display_name": "Python 3 (ipykernel)",
   "language": "python",
   "name": "python3"
  },
  "language_info": {
   "codemirror_mode": {
    "name": "ipython",
    "version": 3
   },
   "file_extension": ".py",
   "mimetype": "text/x-python",
   "name": "python",
   "nbconvert_exporter": "python",
   "pygments_lexer": "ipython3",
   "version": "3.10.9"
  }
 },
 "nbformat": 4,
 "nbformat_minor": 5
}
